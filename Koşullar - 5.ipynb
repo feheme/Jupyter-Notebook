{
 "cells": [
  {
   "cell_type": "code",
   "execution_count": 1,
   "id": "bedfde40",
   "metadata": {},
   "outputs": [],
   "source": [
    "#if elif else \n",
    "#nested if içe içe if demek"
   ]
  },
  {
   "cell_type": "markdown",
   "id": "2b85e2f9",
   "metadata": {},
   "source": [
    "# HackerRank ıf-else cevabı"
   ]
  },
  {
   "cell_type": "markdown",
   "id": "cd0c444f",
   "metadata": {},
   "source": [
    "#!/bin/python3\n",
    "\n",
    "import math\n",
    "import os\n",
    "import random\n",
    "import re\n",
    "import sys\n",
    "\n",
    "\n",
    "\n",
    "if __name__ == '__main__':\n",
    "    n = int(input().strip())\n",
    "    \n",
    "    if (n % 2 != 0):\n",
    "        print(\"Weird\")\n",
    "        \n",
    "    elif (n % 2 == 0) and n <= 5 and n >= 2:\n",
    "        print(\"Not Weird\")\n",
    "\n",
    "    elif (n % 2 == 0) and n <= 20 and n >= 6:\n",
    "        print(\"Weird\")\n",
    "    elif (n % 2 == 0) and n > 20:\n",
    "        print(\"Not Weird\")"
   ]
  },
  {
   "cell_type": "code",
   "execution_count": null,
   "id": "76efb191",
   "metadata": {},
   "outputs": [],
   "source": [
    "# Ternary Conditionals\n"
   ]
  },
  {
   "cell_type": "code",
   "execution_count": 3,
   "id": "2cbfc1c1",
   "metadata": {},
   "outputs": [
    {
     "name": "stdout",
     "output_type": "stream",
     "text": [
      "x'in değeri 2 olsun  mu y/ny\n"
     ]
    }
   ],
   "source": [
    "cevap = input(\"x'in değeri 2 olsun  mu y/n\")"
   ]
  },
  {
   "cell_type": "code",
   "execution_count": 5,
   "id": "ca213462",
   "metadata": {},
   "outputs": [
    {
     "name": "stdout",
     "output_type": "stream",
     "text": [
      "2\n"
     ]
    }
   ],
   "source": [
    "x = 2 if cevap == \"y\" else 0\n",
    "print(x)"
   ]
  },
  {
   "cell_type": "code",
   "execution_count": 8,
   "id": "396245ea",
   "metadata": {},
   "outputs": [
    {
     "name": "stdout",
     "output_type": "stream",
     "text": [
      "2\n"
     ]
    }
   ],
   "source": [
    "conditonal = cevap == \"y\"\n",
    "x = 2 if conditonal else 0\n",
    "print(x)"
   ]
  },
  {
   "cell_type": "code",
   "execution_count": null,
   "id": "cf34f634",
   "metadata": {},
   "outputs": [],
   "source": []
  }
 ],
 "metadata": {
  "kernelspec": {
   "display_name": "Python 3 (ipykernel)",
   "language": "python",
   "name": "python3"
  },
  "language_info": {
   "codemirror_mode": {
    "name": "ipython",
    "version": 3
   },
   "file_extension": ".py",
   "mimetype": "text/x-python",
   "name": "python",
   "nbconvert_exporter": "python",
   "pygments_lexer": "ipython3",
   "version": "3.7.8"
  }
 },
 "nbformat": 4,
 "nbformat_minor": 5
}

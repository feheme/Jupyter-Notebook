{
 "cells": [
  {
   "cell_type": "code",
   "execution_count": 2,
   "id": "424c73b9",
   "metadata": {},
   "outputs": [],
   "source": [
    "def square(x):\n",
    "    return x * x"
   ]
  },
  {
   "cell_type": "code",
   "execution_count": 3,
   "id": "6fd749cc",
   "metadata": {},
   "outputs": [],
   "source": [
    "def triangle():\n",
    "    print(\"iç açıları toplamı 180.dir\")"
   ]
  },
  {
   "cell_type": "code",
   "execution_count": 4,
   "id": "1928dd17",
   "metadata": {},
   "outputs": [
    {
     "name": "stdout",
     "output_type": "stream",
     "text": [
      "iç açıları toplamı 180.dir\n"
     ]
    }
   ],
   "source": [
    "triangle()"
   ]
  },
  {
   "cell_type": "code",
   "execution_count": 5,
   "id": "f471ef09",
   "metadata": {},
   "outputs": [
    {
     "name": "stdout",
     "output_type": "stream",
     "text": [
      "iç açıları toplamı 180.dir\n"
     ]
    },
    {
     "data": {
      "text/plain": [
       "NoneType"
      ]
     },
     "execution_count": 5,
     "metadata": {},
     "output_type": "execute_result"
    }
   ],
   "source": [
    "type(triangle())"
   ]
  },
  {
   "cell_type": "code",
   "execution_count": 10,
   "id": "6b8ec3ec",
   "metadata": {},
   "outputs": [
    {
     "data": {
      "text/plain": [
       "int"
      ]
     },
     "execution_count": 10,
     "metadata": {},
     "output_type": "execute_result"
    }
   ],
   "source": [
    "type(square(10))"
   ]
  },
  {
   "cell_type": "markdown",
   "id": "7c2566fc",
   "metadata": {},
   "source": [
    "# Fonskiyonlarda yorum satırı kullanmak\n"
   ]
  },
  {
   "cell_type": "code",
   "execution_count": 11,
   "id": "b79aa330",
   "metadata": {},
   "outputs": [],
   "source": [
    "def square(x):\n",
    "    \"\"\"\n",
    "    \n",
    "    karesini alıyor\n",
    "    \"\"\"\n",
    "    return x * x"
   ]
  },
  {
   "cell_type": "code",
   "execution_count": 12,
   "id": "25779fc6",
   "metadata": {},
   "outputs": [],
   "source": [
    "?square # yorum satırınını okuyor."
   ]
  },
  {
   "cell_type": "code",
   "execution_count": 13,
   "id": "dd00cea4",
   "metadata": {},
   "outputs": [],
   "source": [
    "??square # daha fazla ayrıntı veriyor."
   ]
  },
  {
   "cell_type": "code",
   "execution_count": null,
   "id": "558f376b",
   "metadata": {},
   "outputs": [],
   "source": []
  },
  {
   "cell_type": "code",
   "execution_count": 14,
   "id": "c92e215b",
   "metadata": {},
   "outputs": [],
   "source": [
    "def power(x,y):\n",
    "    return x ** y"
   ]
  },
  {
   "cell_type": "code",
   "execution_count": 15,
   "id": "2df6f72d",
   "metadata": {},
   "outputs": [
    {
     "data": {
      "text/plain": [
       "8"
      ]
     },
     "execution_count": 15,
     "metadata": {},
     "output_type": "execute_result"
    }
   ],
   "source": [
    "power(2,3)"
   ]
  },
  {
   "cell_type": "code",
   "execution_count": null,
   "id": "bfa9982b",
   "metadata": {},
   "outputs": [],
   "source": []
  },
  {
   "cell_type": "code",
   "execution_count": 20,
   "id": "2e776a4a",
   "metadata": {},
   "outputs": [],
   "source": [
    "def f(x):\n",
    "    return x , 2*x"
   ]
  },
  {
   "cell_type": "code",
   "execution_count": 21,
   "id": "950263e6",
   "metadata": {},
   "outputs": [
    {
     "data": {
      "text/plain": [
       "(10, 20)"
      ]
     },
     "execution_count": 21,
     "metadata": {},
     "output_type": "execute_result"
    }
   ],
   "source": [
    "f(10)"
   ]
  },
  {
   "cell_type": "code",
   "execution_count": 25,
   "id": "10eb8f3f",
   "metadata": {},
   "outputs": [],
   "source": [
    "a,b = f(10) # variable unpacking"
   ]
  },
  {
   "cell_type": "code",
   "execution_count": 23,
   "id": "71cf6506",
   "metadata": {},
   "outputs": [
    {
     "data": {
      "text/plain": [
       "10"
      ]
     },
     "execution_count": 23,
     "metadata": {},
     "output_type": "execute_result"
    }
   ],
   "source": [
    "a"
   ]
  },
  {
   "cell_type": "code",
   "execution_count": 24,
   "id": "a4e946b8",
   "metadata": {},
   "outputs": [
    {
     "data": {
      "text/plain": [
       "20"
      ]
     },
     "execution_count": 24,
     "metadata": {},
     "output_type": "execute_result"
    }
   ],
   "source": [
    "b"
   ]
  },
  {
   "cell_type": "markdown",
   "id": "4fc5a1ca",
   "metadata": {},
   "source": [
    "# Predefined "
   ]
  },
  {
   "cell_type": "code",
   "execution_count": 3,
   "id": "1eedac71",
   "metadata": {},
   "outputs": [],
   "source": [
    "def hello(end,start=\"hello\"): # önceden belirmişiz istersek belirmemize gerek yok sağda olması gerekiyor\n",
    "    print(end,\"\",start)"
   ]
  },
  {
   "cell_type": "code",
   "execution_count": 2,
   "id": "143c70e8",
   "metadata": {},
   "outputs": [
    {
     "name": "stdout",
     "output_type": "stream",
     "text": [
      "merhaba  hello\n"
     ]
    }
   ],
   "source": [
    "hello(\"merhaba\")"
   ]
  },
  {
   "cell_type": "markdown",
   "id": "4aeb7a30",
   "metadata": {},
   "source": [
    "# update - argument\n"
   ]
  },
  {
   "cell_type": "code",
   "execution_count": 11,
   "id": "bde714be",
   "metadata": {},
   "outputs": [],
   "source": [
    "a = 2"
   ]
  },
  {
   "cell_type": "code",
   "execution_count": 12,
   "id": "03cba0e7",
   "metadata": {},
   "outputs": [],
   "source": [
    "\n",
    "def f(x):\n",
    "    x = 4\n",
    "    return x"
   ]
  },
  {
   "cell_type": "code",
   "execution_count": 13,
   "id": "f160e21b",
   "metadata": {},
   "outputs": [
    {
     "data": {
      "text/plain": [
       "4"
      ]
     },
     "execution_count": 13,
     "metadata": {},
     "output_type": "execute_result"
    }
   ],
   "source": [
    "f(a)"
   ]
  },
  {
   "cell_type": "code",
   "execution_count": 14,
   "id": "2c3a72d8",
   "metadata": {},
   "outputs": [
    {
     "data": {
      "text/plain": [
       "2"
      ]
     },
     "execution_count": 14,
     "metadata": {},
     "output_type": "execute_result"
    }
   ],
   "source": [
    "a"
   ]
  },
  {
   "cell_type": "code",
   "execution_count": 15,
   "id": "b9b98109",
   "metadata": {},
   "outputs": [],
   "source": [
    "l = [1,2,3]\n",
    "def f(x):\n",
    "    l[0] = \"a\"\n",
    "    return l"
   ]
  },
  {
   "cell_type": "code",
   "execution_count": 16,
   "id": "056c2e9d",
   "metadata": {},
   "outputs": [
    {
     "data": {
      "text/plain": [
       "['a', 2, 3]"
      ]
     },
     "execution_count": 16,
     "metadata": {},
     "output_type": "execute_result"
    }
   ],
   "source": [
    "f(l)"
   ]
  },
  {
   "cell_type": "code",
   "execution_count": 17,
   "id": "5c5f6320",
   "metadata": {},
   "outputs": [
    {
     "data": {
      "text/plain": [
       "['a', 2, 3]"
      ]
     },
     "execution_count": 17,
     "metadata": {},
     "output_type": "execute_result"
    }
   ],
   "source": [
    "l"
   ]
  },
  {
   "cell_type": "code",
   "execution_count": 18,
   "id": "816d4200",
   "metadata": {},
   "outputs": [],
   "source": [
    "# burada listemizde güncellendi çünkü copy yapmadık listelerde bunun açıklaması var"
   ]
  },
  {
   "cell_type": "markdown",
   "id": "59c87c5f",
   "metadata": {},
   "source": [
    "# firs-class function"
   ]
  },
  {
   "cell_type": "code",
   "execution_count": 19,
   "id": "4f07d8aa",
   "metadata": {},
   "outputs": [],
   "source": [
    "# pythonda her fonksiyon böyle yaratılmıştır"
   ]
  },
  {
   "cell_type": "code",
   "execution_count": 23,
   "id": "a52e40e2",
   "metadata": {},
   "outputs": [],
   "source": [
    "def kare(x):\n",
    "    return x**2"
   ]
  },
  {
   "cell_type": "code",
   "execution_count": 24,
   "id": "3c188a75",
   "metadata": {},
   "outputs": [],
   "source": [
    "a = kare"
   ]
  },
  {
   "cell_type": "code",
   "execution_count": 25,
   "id": "52d2054e",
   "metadata": {},
   "outputs": [
    {
     "data": {
      "text/plain": [
       "25"
      ]
     },
     "execution_count": 25,
     "metadata": {},
     "output_type": "execute_result"
    }
   ],
   "source": [
    "a(5)"
   ]
  },
  {
   "cell_type": "code",
   "execution_count": 29,
   "id": "30c1de07",
   "metadata": {},
   "outputs": [],
   "source": [
    "def f2(x,f): # dikkat et f kare olarak alıyoruz altta pythonda böyle function çağırabiliyoruz.\n",
    "    return f(x) + 4"
   ]
  },
  {
   "cell_type": "code",
   "execution_count": 30,
   "id": "644cfb0e",
   "metadata": {},
   "outputs": [
    {
     "data": {
      "text/plain": [
       "13"
      ]
     },
     "execution_count": 30,
     "metadata": {},
     "output_type": "execute_result"
    }
   ],
   "source": [
    "f2(3,kare)"
   ]
  },
  {
   "cell_type": "markdown",
   "id": "90d1b1fc",
   "metadata": {},
   "source": [
    "# for-function"
   ]
  },
  {
   "cell_type": "code",
   "execution_count": 1,
   "id": "1c83243c",
   "metadata": {},
   "outputs": [],
   "source": [
    "l = [1,2,3,4]"
   ]
  },
  {
   "cell_type": "code",
   "execution_count": 5,
   "id": "6f3494ba",
   "metadata": {},
   "outputs": [],
   "source": [
    "def apply(l,f):\n",
    "    \n",
    "    n = len(l)\n",
    "    for i in range(n):\n",
    "        l[i] = f(l[i])"
   ]
  },
  {
   "cell_type": "code",
   "execution_count": 6,
   "id": "372f2b39",
   "metadata": {},
   "outputs": [],
   "source": [
    "def kare(x):\n",
    "    return x ** 2"
   ]
  },
  {
   "cell_type": "code",
   "execution_count": 11,
   "id": "b62e9a45",
   "metadata": {},
   "outputs": [],
   "source": [
    "apply(l,kare)"
   ]
  },
  {
   "cell_type": "code",
   "execution_count": 12,
   "id": "bd31fc0e",
   "metadata": {},
   "outputs": [],
   "source": [
    "def kup(x):\n",
    "    return x**3"
   ]
  },
  {
   "cell_type": "code",
   "execution_count": 13,
   "id": "70989eae",
   "metadata": {},
   "outputs": [
    {
     "data": {
      "text/plain": [
       "[1, 16, 81, 256]"
      ]
     },
     "execution_count": 13,
     "metadata": {},
     "output_type": "execute_result"
    }
   ],
   "source": [
    "l"
   ]
  },
  {
   "cell_type": "code",
   "execution_count": 14,
   "id": "13b36408",
   "metadata": {},
   "outputs": [],
   "source": [
    "def apply_funcs(f_list,x):\n",
    "    l = []\n",
    "    for f in f_list:\n",
    "        l.append(f(x))\n",
    "        \n",
    "    return l"
   ]
  },
  {
   "cell_type": "code",
   "execution_count": 15,
   "id": "26e8ef59",
   "metadata": {},
   "outputs": [
    {
     "data": {
      "text/plain": [
       "[25, 125]"
      ]
     },
     "execution_count": 15,
     "metadata": {},
     "output_type": "execute_result"
    }
   ],
   "source": [
    "apply_funcs([kare,kup],5)"
   ]
  },
  {
   "cell_type": "code",
   "execution_count": null,
   "id": "f362f687",
   "metadata": {},
   "outputs": [],
   "source": []
  }
 ],
 "metadata": {
  "kernelspec": {
   "display_name": "Python 3 (ipykernel)",
   "language": "python",
   "name": "python3"
  },
  "language_info": {
   "codemirror_mode": {
    "name": "ipython",
    "version": 3
   },
   "file_extension": ".py",
   "mimetype": "text/x-python",
   "name": "python",
   "nbconvert_exporter": "python",
   "pygments_lexer": "ipython3",
   "version": "3.7.8"
  }
 },
 "nbformat": 4,
 "nbformat_minor": 5
}

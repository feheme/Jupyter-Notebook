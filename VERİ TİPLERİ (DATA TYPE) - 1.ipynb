{
 "cells": [
  {
   "cell_type": "markdown",
   "id": "e56f184b",
   "metadata": {},
   "source": [
    "SCALAR DEMEK İNT FLOAT BOOLEAN GİBİ TİPLERDİR."
   ]
  },
  {
   "cell_type": "code",
   "execution_count": 2,
   "id": "1ccb7efd",
   "metadata": {},
   "outputs": [
    {
     "data": {
      "text/plain": [
       "False"
      ]
     },
     "execution_count": 2,
     "metadata": {},
     "output_type": "execute_result"
    }
   ],
   "source": [
    "X = 5 #İNT\n",
    "\n",
    "Y = 3.5 #FLOAT\n",
    "\n",
    "2 > 3 #BOOL\n",
    "True\n",
    "False\n"
   ]
  },
  {
   "cell_type": "code",
   "execution_count": 5,
   "id": "ba9bc6f8",
   "metadata": {},
   "outputs": [
    {
     "data": {
      "text/plain": [
       "bool"
      ]
     },
     "execution_count": 5,
     "metadata": {},
     "output_type": "execute_result"
    }
   ],
   "source": [
    "type(2)\n",
    "type(2.0)\n",
    "type(True) # değişkenlerimizin tipini döndürüyor."
   ]
  },
  {
   "cell_type": "markdown",
   "id": "b6c2d742",
   "metadata": {},
   "source": [
    "* Data objelerin tipini değiştirebiliyoruz.buna casting deniyor."
   ]
  },
  {
   "cell_type": "code",
   "execution_count": 6,
   "id": "0ffb7c8a",
   "metadata": {},
   "outputs": [
    {
     "data": {
      "text/plain": [
       "2"
      ]
     },
     "execution_count": 6,
     "metadata": {},
     "output_type": "execute_result"
    }
   ],
   "source": [
    "int(2.4)"
   ]
  },
  {
   "cell_type": "code",
   "execution_count": 7,
   "id": "8f14edaa",
   "metadata": {},
   "outputs": [
    {
     "data": {
      "text/plain": [
       "2"
      ]
     },
     "execution_count": 7,
     "metadata": {},
     "output_type": "execute_result"
    }
   ],
   "source": [
    "int(2.9) # böyle olsa bile sadece tam kısmını alıyor."
   ]
  },
  {
   "cell_type": "code",
   "execution_count": 8,
   "id": "5589614f",
   "metadata": {},
   "outputs": [
    {
     "data": {
      "text/plain": [
       "4.0"
      ]
     },
     "execution_count": 8,
     "metadata": {},
     "output_type": "execute_result"
    }
   ],
   "source": [
    "float(4)"
   ]
  },
  {
   "cell_type": "code",
   "execution_count": 9,
   "id": "2e591221",
   "metadata": {},
   "outputs": [
    {
     "data": {
      "text/plain": [
       "4.9"
      ]
     },
     "execution_count": 9,
     "metadata": {},
     "output_type": "execute_result"
    }
   ],
   "source": [
    "float(4.9)"
   ]
  },
  {
   "cell_type": "markdown",
   "id": "808cf002",
   "metadata": {},
   "source": [
    "* variable assignment (değişkene değer atama)"
   ]
  },
  {
   "cell_type": "code",
   "execution_count": 10,
   "id": "28d4cbe6",
   "metadata": {},
   "outputs": [],
   "source": [
    "x = 5 "
   ]
  },
  {
   "cell_type": "code",
   "execution_count": 11,
   "id": "986aede2",
   "metadata": {},
   "outputs": [
    {
     "data": {
      "text/plain": [
       "4"
      ]
     },
     "execution_count": 11,
     "metadata": {},
     "output_type": "execute_result"
    }
   ],
   "source": [
    "-1 % 5"
   ]
  },
  {
   "cell_type": "code",
   "execution_count": 12,
   "id": "0501c7fd",
   "metadata": {},
   "outputs": [
    {
     "data": {
      "text/plain": [
       "40"
      ]
     },
     "execution_count": 12,
     "metadata": {},
     "output_type": "execute_result"
    }
   ],
   "source": [
    "-10 % 50"
   ]
  },
  {
   "cell_type": "markdown",
   "id": "a1ddab1e",
   "metadata": {},
   "source": [
    "* operation expression\n"
   ]
  },
  {
   "cell_type": "code",
   "execution_count": 15,
   "id": "cb86d3de",
   "metadata": {},
   "outputs": [
    {
     "data": {
      "text/plain": [
       "int"
      ]
     },
     "execution_count": 15,
     "metadata": {},
     "output_type": "execute_result"
    }
   ],
   "source": [
    "a = 10\n",
    "b = 20\n",
    "type(a + b) # bunun gibi şeylere verilen isim"
   ]
  },
  {
   "cell_type": "code",
   "execution_count": null,
   "id": "25efa93c",
   "metadata": {},
   "outputs": [],
   "source": []
  }
 ],
 "metadata": {
  "kernelspec": {
   "display_name": "Python 3 (ipykernel)",
   "language": "python",
   "name": "python3"
  },
  "language_info": {
   "codemirror_mode": {
    "name": "ipython",
    "version": 3
   },
   "file_extension": ".py",
   "mimetype": "text/x-python",
   "name": "python",
   "nbconvert_exporter": "python",
   "pygments_lexer": "ipython3",
   "version": "3.7.8"
  }
 },
 "nbformat": 4,
 "nbformat_minor": 5
}

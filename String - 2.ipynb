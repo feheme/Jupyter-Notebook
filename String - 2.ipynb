{
 "cells": [
  {
   "cell_type": "markdown",
   "id": "5b7c1152",
   "metadata": {},
   "source": [
    "* Stringler immutable veri tipleridir.\n",
    "* immutable = değiştirilemez, bu yüzden farklı yollardan değişmesine imkan sağlamamız lazım.\n",
    "* \"\" ikili tırnak ya da ' ' tek tırnak ile yapabiliyoruz.\n",
    "* Stringler karakterlerden oluşan dizilerdir.\n",
    "* Stringler non-scaler bir tiptedir. İçsel bir yapı olarak düşünebiliriz."
   ]
  },
  {
   "cell_type": "code",
   "execution_count": 2,
   "id": "a9c55482",
   "metadata": {},
   "outputs": [
    {
     "data": {
      "text/plain": [
       "str"
      ]
     },
     "execution_count": 2,
     "metadata": {},
     "output_type": "execute_result"
    }
   ],
   "source": [
    "type(\"Merhaba nasılsın\")"
   ]
  },
  {
   "cell_type": "markdown",
   "id": "a3a53de5",
   "metadata": {},
   "source": [
    "# Escape sequences"
   ]
  },
  {
   "cell_type": "code",
   "execution_count": 6,
   "id": "f1799973",
   "metadata": {},
   "outputs": [
    {
     "data": {
      "text/plain": [
       "'Bana \"bugün ne yapıyorsun\" dedi.'"
      ]
     },
     "execution_count": 6,
     "metadata": {},
     "output_type": "execute_result"
    }
   ],
   "source": [
    "\"Bana \\\"bugün ne yapıyorsun\\\" dedi.\" # backslash kullanmak "
   ]
  },
  {
   "cell_type": "code",
   "execution_count": 9,
   "id": "5fa8ae0e",
   "metadata": {},
   "outputs": [
    {
     "data": {
      "text/plain": [
       "\"Bugün İstanbul'a gidiyorum\""
      ]
     },
     "execution_count": 9,
     "metadata": {},
     "output_type": "execute_result"
    }
   ],
   "source": [
    "'Bugün İstanbul\\'a gidiyorum'"
   ]
  },
  {
   "cell_type": "code",
   "execution_count": 15,
   "id": "13d62fe7",
   "metadata": {},
   "outputs": [
    {
     "name": "stdout",
     "output_type": "stream",
     "text": [
      "Merhaba \n",
      "naber\n"
     ]
    }
   ],
   "source": [
    "print(\"Merhaba \\nnaber\") # \\n new line demek yeni satıra geçiyoruz."
   ]
  },
  {
   "cell_type": "code",
   "execution_count": 13,
   "id": "47fa926a",
   "metadata": {},
   "outputs": [
    {
     "name": "stdout",
     "output_type": "stream",
     "text": [
      "Merhaba\tnaber\n"
     ]
    }
   ],
   "source": [
    "print(\"Merhaba\\tnaber\") # \\t 4 satır boşluk bırakıyor"
   ]
  },
  {
   "cell_type": "code",
   "execution_count": 17,
   "id": "d465c038",
   "metadata": {},
   "outputs": [
    {
     "name": "stdout",
     "output_type": "stream",
     "text": [
      "Hmm \\\n"
     ]
    }
   ],
   "source": [
    "print(\"Hmm \\\\\") # backslash yazdırmak için böyle yapıyoruz."
   ]
  },
  {
   "cell_type": "code",
   "execution_count": 22,
   "id": "7c0e8c3e",
   "metadata": {},
   "outputs": [
    {
     "data": {
      "text/plain": [
       "\"Bugün Mecidiyeköy'den Mecidiyeköy'\\\\e 40 dakikada gittim.\""
      ]
     },
     "execution_count": 22,
     "metadata": {},
     "output_type": "execute_result"
    }
   ],
   "source": [
    "\"Bugün Mecidiyeköy\\'den Mecidiyeköy'\\e 40 dakikada gittim.\""
   ]
  },
  {
   "cell_type": "markdown",
   "id": "39a4672b",
   "metadata": {},
   "source": [
    "# Stringlerde değer atama variables assignment"
   ]
  },
  {
   "cell_type": "code",
   "execution_count": 23,
   "id": "29a3933f",
   "metadata": {},
   "outputs": [],
   "source": [
    "merhaba = \"Bugün nasılsın\""
   ]
  },
  {
   "cell_type": "markdown",
   "id": "b8e4a60a",
   "metadata": {},
   "source": [
    "# Stringlerde concatenation"
   ]
  },
  {
   "cell_type": "code",
   "execution_count": 24,
   "id": "d9cb2e4f",
   "metadata": {},
   "outputs": [
    {
     "data": {
      "text/plain": [
       "'54'"
      ]
     },
     "execution_count": 24,
     "metadata": {},
     "output_type": "execute_result"
    }
   ],
   "source": [
    "\"5\" + \"4\""
   ]
  },
  {
   "cell_type": "markdown",
   "id": "0fcd827a",
   "metadata": {},
   "source": [
    "# Succesive concatenation(ardışık birleştirme)"
   ]
  },
  {
   "cell_type": "code",
   "execution_count": 25,
   "id": "4eb5893b",
   "metadata": {},
   "outputs": [
    {
     "data": {
      "text/plain": [
       "'heyheyheyhey'"
      ]
     },
     "execution_count": 25,
     "metadata": {},
     "output_type": "execute_result"
    }
   ],
   "source": [
    "4 * \"hey\" # Stringleri n kere tekrar etmesini sağlıyor * işareti yeri önemli değil\n"
   ]
  },
  {
   "cell_type": "code",
   "execution_count": 27,
   "id": "03661d40",
   "metadata": {},
   "outputs": [
    {
     "data": {
      "text/plain": [
       "3"
      ]
     },
     "execution_count": 27,
     "metadata": {},
     "output_type": "execute_result"
    }
   ],
   "source": [
    "len(\"hey\") # lenght uzunluğunu bize veriyor string bir karakter dizisi olduğu için"
   ]
  },
  {
   "cell_type": "markdown",
   "id": "50be78f6",
   "metadata": {},
   "source": [
    "* len() metodu boşluk ünlem ve benzeri şeyleride hesaplıyor"
   ]
  },
  {
   "cell_type": "markdown",
   "id": "b95f16bc",
   "metadata": {},
   "source": [
    "# indexing (elemanlara erişme)"
   ]
  },
  {
   "cell_type": "code",
   "execution_count": 28,
   "id": "4271f616",
   "metadata": {},
   "outputs": [
    {
     "data": {
      "text/plain": [
       "'F'"
      ]
     },
     "execution_count": 28,
     "metadata": {},
     "output_type": "execute_result"
    }
   ],
   "source": [
    "string = \"Fatih\"\n",
    "string[0]"
   ]
  },
  {
   "cell_type": "code",
   "execution_count": 29,
   "id": "a5348008",
   "metadata": {},
   "outputs": [
    {
     "data": {
      "text/plain": [
       "'F'"
      ]
     },
     "execution_count": 29,
     "metadata": {},
     "output_type": "execute_result"
    }
   ],
   "source": [
    "\"Fatih\"[0] # böyle bir durumlada karşılaşabiliriz."
   ]
  },
  {
   "cell_type": "code",
   "execution_count": 30,
   "id": "155c5213",
   "metadata": {},
   "outputs": [
    {
     "data": {
      "text/plain": [
       "'h'"
      ]
     },
     "execution_count": 30,
     "metadata": {},
     "output_type": "execute_result"
    }
   ],
   "source": [
    "string[-1] # son satırına erişiyoruz."
   ]
  },
  {
   "cell_type": "markdown",
   "id": "3c2273c6",
   "metadata": {},
   "source": [
    "* slicing"
   ]
  },
  {
   "cell_type": "code",
   "execution_count": 32,
   "id": "499c4747",
   "metadata": {},
   "outputs": [
    {
     "data": {
      "text/plain": [
       "'Fat'"
      ]
     },
     "execution_count": 32,
     "metadata": {},
     "output_type": "execute_result"
    }
   ],
   "source": [
    "string[0:3] # 0 dan 3 e kadar 3 hariç"
   ]
  },
  {
   "cell_type": "code",
   "execution_count": 34,
   "id": "6aaa6945",
   "metadata": {},
   "outputs": [
    {
     "data": {
      "text/plain": [
       "'Fat'"
      ]
     },
     "execution_count": 34,
     "metadata": {},
     "output_type": "execute_result"
    }
   ],
   "source": [
    "string[:3] # 0 dan 3 e kadar 3 hariç"
   ]
  },
  {
   "cell_type": "code",
   "execution_count": 35,
   "id": "2309059c",
   "metadata": {},
   "outputs": [
    {
     "data": {
      "text/plain": [
       "'ih'"
      ]
     },
     "execution_count": 35,
     "metadata": {},
     "output_type": "execute_result"
    }
   ],
   "source": [
    "string[3:] # 3 den sonuna kadar alır."
   ]
  },
  {
   "cell_type": "code",
   "execution_count": 36,
   "id": "e2c48912",
   "metadata": {},
   "outputs": [
    {
     "data": {
      "text/plain": [
       "'Fatih'"
      ]
     },
     "execution_count": 36,
     "metadata": {},
     "output_type": "execute_result"
    }
   ],
   "source": [
    "string[:] # hepsini alıyor."
   ]
  },
  {
   "cell_type": "code",
   "execution_count": 37,
   "id": "109c14be",
   "metadata": {},
   "outputs": [
    {
     "data": {
      "text/plain": [
       "'Fatih'"
      ]
     },
     "execution_count": 37,
     "metadata": {},
     "output_type": "execute_result"
    }
   ],
   "source": [
    "string[:100] # 100 e kadar değer yok ama hata vermiyor."
   ]
  },
  {
   "cell_type": "code",
   "execution_count": 38,
   "id": "1198e94f",
   "metadata": {},
   "outputs": [
    {
     "data": {
      "text/plain": [
       "'Ft'"
      ]
     },
     "execution_count": 38,
     "metadata": {},
     "output_type": "execute_result"
    }
   ],
   "source": [
    "string[0:4:2] # 2 atlayarak alıyor."
   ]
  },
  {
   "cell_type": "code",
   "execution_count": 39,
   "id": "a68a28f7",
   "metadata": {},
   "outputs": [
    {
     "data": {
      "text/plain": [
       "'hitaF'"
      ]
     },
     "execution_count": 39,
     "metadata": {},
     "output_type": "execute_result"
    }
   ],
   "source": [
    "string[::-1] # tersine çevirmiş oluyoruz."
   ]
  },
  {
   "cell_type": "markdown",
   "id": "abbcb11f",
   "metadata": {},
   "source": [
    "# Stringde substring kaç kere geçer onu bulma"
   ]
  },
  {
   "cell_type": "code",
   "execution_count": 10,
   "id": "8ea5eb8c",
   "metadata": {},
   "outputs": [
    {
     "name": "stdout",
     "output_type": "stream",
     "text": [
      "ABCDCDC\n",
      "CDC\n",
      "ABC\n",
      "CDC\n",
      "BCD\n",
      "CDC\n",
      "CDC\n",
      "CDC\n",
      "DCD\n",
      "CDC\n",
      "CDC\n",
      "CDC\n",
      "DC\n",
      "CDC\n",
      "C\n",
      "CDC\n",
      "2\n"
     ]
    }
   ],
   "source": [
    "def count_substring(string, sub_string):\n",
    "    sonuc = 0\n",
    "    for i in range(0,len(string)):\n",
    "        \n",
    "        print(string[i:i+3])\n",
    "        print(sub_string)\n",
    "        if(string[i:i+3] == sub_string):\n",
    "        \n",
    "            sonuc += 1  \n",
    "        \n",
    "        \n",
    "    return sonuc\n",
    "\n",
    "    \n",
    "\n",
    "if __name__ == '__main__':\n",
    "    string = input().strip()\n",
    "    sub_string = input().strip()\n",
    "    \n",
    "    count = count_substring(string, sub_string)\n",
    "    print(count)"
   ]
  },
  {
   "cell_type": "code",
   "execution_count": 9,
   "id": "c750a1f7",
   "metadata": {},
   "outputs": [
    {
     "name": "stdout",
     "output_type": "stream",
     "text": [
      "ABCDCDC\n",
      "CDC\n",
      "2\n"
     ]
    }
   ],
   "source": [
    "def count_substring(string,sub_string):\n",
    "    \n",
    "    count=0\n",
    "    for i in range(len(string)-len(sub_string)+1):\n",
    "        if(string[i:i+len(sub_string)] == sub_string ):      \n",
    "            count+=1\n",
    "    return count  \n",
    "\n",
    "    \n",
    "\n",
    "if __name__ == '__main__':\n",
    "    string = input().strip()\n",
    "    sub_string = input().strip()\n",
    "    \n",
    "    count = count_substring(string, sub_string)\n",
    "    print(count)"
   ]
  },
  {
   "cell_type": "markdown",
   "id": "21171edc",
   "metadata": {},
   "source": [
    "* Casting in Strings\n",
    "* floatlarda da aynı şeyler geçerli"
   ]
  },
  {
   "cell_type": "code",
   "execution_count": 1,
   "id": "7b85f7d2",
   "metadata": {},
   "outputs": [
    {
     "data": {
      "text/plain": [
       "5"
      ]
     },
     "execution_count": 1,
     "metadata": {},
     "output_type": "execute_result"
    }
   ],
   "source": [
    "a = \"5\"\n",
    "int(a)"
   ]
  },
  {
   "cell_type": "code",
   "execution_count": 2,
   "id": "b1fabb56",
   "metadata": {},
   "outputs": [
    {
     "ename": "ValueError",
     "evalue": "invalid literal for int() with base 10: '5.4'",
     "output_type": "error",
     "traceback": [
      "\u001b[1;31m---------------------------------------------------------------------------\u001b[0m",
      "\u001b[1;31mValueError\u001b[0m                                Traceback (most recent call last)",
      "\u001b[1;32m~\\AppData\\Local\\Temp/ipykernel_14340/391957880.py\u001b[0m in \u001b[0;36m<module>\u001b[1;34m\u001b[0m\n\u001b[0;32m      1\u001b[0m \u001b[0ma\u001b[0m \u001b[1;33m=\u001b[0m \u001b[1;34m\"5.4\"\u001b[0m\u001b[1;33m\u001b[0m\u001b[1;33m\u001b[0m\u001b[0m\n\u001b[1;32m----> 2\u001b[1;33m \u001b[0mint\u001b[0m\u001b[1;33m(\u001b[0m\u001b[0ma\u001b[0m\u001b[1;33m)\u001b[0m\u001b[1;33m\u001b[0m\u001b[1;33m\u001b[0m\u001b[0m\n\u001b[0m",
      "\u001b[1;31mValueError\u001b[0m: invalid literal for int() with base 10: '5.4'"
     ]
    }
   ],
   "source": [
    "a = \"5.4\"\n",
    "int(a)"
   ]
  },
  {
   "cell_type": "code",
   "execution_count": 4,
   "id": "3aa09dbf",
   "metadata": {},
   "outputs": [
    {
     "ename": "ValueError",
     "evalue": "invalid literal for int() with base 10: 'hem54'",
     "output_type": "error",
     "traceback": [
      "\u001b[1;31m---------------------------------------------------------------------------\u001b[0m",
      "\u001b[1;31mValueError\u001b[0m                                Traceback (most recent call last)",
      "\u001b[1;32m~\\AppData\\Local\\Temp/ipykernel_14340/2528170657.py\u001b[0m in \u001b[0;36m<module>\u001b[1;34m\u001b[0m\n\u001b[0;32m      1\u001b[0m \u001b[0ma\u001b[0m \u001b[1;33m=\u001b[0m \u001b[1;34m\"hem54\"\u001b[0m\u001b[1;33m\u001b[0m\u001b[1;33m\u001b[0m\u001b[0m\n\u001b[1;32m----> 2\u001b[1;33m \u001b[0mint\u001b[0m\u001b[1;33m(\u001b[0m\u001b[0ma\u001b[0m\u001b[1;33m)\u001b[0m\u001b[1;33m\u001b[0m\u001b[1;33m\u001b[0m\u001b[0m\n\u001b[0m",
      "\u001b[1;31mValueError\u001b[0m: invalid literal for int() with base 10: 'hem54'"
     ]
    }
   ],
   "source": [
    "a = \"hem54\"\n",
    "int(a)"
   ]
  },
  {
   "cell_type": "code",
   "execution_count": 5,
   "id": "605c867f",
   "metadata": {},
   "outputs": [
    {
     "data": {
      "text/plain": [
       "5.0"
      ]
     },
     "execution_count": 5,
     "metadata": {},
     "output_type": "execute_result"
    }
   ],
   "source": [
    "a = \"5\"\n",
    "float(a)"
   ]
  },
  {
   "cell_type": "code",
   "execution_count": 6,
   "id": "34d91317",
   "metadata": {},
   "outputs": [
    {
     "data": {
      "text/plain": [
       "5"
      ]
     },
     "execution_count": 6,
     "metadata": {},
     "output_type": "execute_result"
    }
   ],
   "source": [
    "a = \"5.4\"\n",
    "int(float(a))"
   ]
  },
  {
   "cell_type": "code",
   "execution_count": null,
   "id": "5054c074",
   "metadata": {},
   "outputs": [],
   "source": []
  }
 ],
 "metadata": {
  "kernelspec": {
   "display_name": "Python 3 (ipykernel)",
   "language": "python",
   "name": "python3"
  },
  "language_info": {
   "codemirror_mode": {
    "name": "ipython",
    "version": 3
   },
   "file_extension": ".py",
   "mimetype": "text/x-python",
   "name": "python",
   "nbconvert_exporter": "python",
   "pygments_lexer": "ipython3",
   "version": "3.7.8"
  }
 },
 "nbformat": 4,
 "nbformat_minor": 5
}

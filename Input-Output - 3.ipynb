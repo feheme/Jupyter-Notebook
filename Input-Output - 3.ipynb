{
 "cells": [
  {
   "cell_type": "markdown",
   "id": "d466b2a5",
   "metadata": {},
   "source": [
    "* Input-Output\n"
   ]
  },
  {
   "cell_type": "code",
   "execution_count": 2,
   "id": "dba5bdd7",
   "metadata": {},
   "outputs": [
    {
     "name": "stdout",
     "output_type": "stream",
     "text": [
      "Bir sayı giriniz:5\n"
     ]
    }
   ],
   "source": [
    "a = input(\"Bir sayı giriniz:\") # kullanıcıdan bir sayı girmesini istiyoruz.\n",
    "# ama bu sayı bir string olarak alınıyor dikkat."
   ]
  },
  {
   "cell_type": "code",
   "execution_count": 3,
   "id": "d85384ea",
   "metadata": {},
   "outputs": [
    {
     "ename": "TypeError",
     "evalue": "can only concatenate str (not \"int\") to str",
     "output_type": "error",
     "traceback": [
      "\u001b[1;31m---------------------------------------------------------------------------\u001b[0m",
      "\u001b[1;31mTypeError\u001b[0m                                 Traceback (most recent call last)",
      "\u001b[1;32m~\\AppData\\Local\\Temp/ipykernel_13032/4096688.py\u001b[0m in \u001b[0;36m<module>\u001b[1;34m\u001b[0m\n\u001b[1;32m----> 1\u001b[1;33m \u001b[0ma\u001b[0m \u001b[1;33m+\u001b[0m \u001b[1;36m10\u001b[0m\u001b[1;33m\u001b[0m\u001b[1;33m\u001b[0m\u001b[0m\n\u001b[0m",
      "\u001b[1;31mTypeError\u001b[0m: can only concatenate str (not \"int\") to str"
     ]
    }
   ],
   "source": [
    "a + 10"
   ]
  },
  {
   "cell_type": "code",
   "execution_count": 4,
   "id": "1ab6009d",
   "metadata": {},
   "outputs": [
    {
     "name": "stdout",
     "output_type": "stream",
     "text": [
      "Bir Sayı giriniz:5\n"
     ]
    }
   ],
   "source": [
    "x = int(input(\"Bir Sayı giriniz:\"))  # direk int değer olarak casting ettik."
   ]
  },
  {
   "cell_type": "code",
   "execution_count": 7,
   "id": "87e9bd26",
   "metadata": {},
   "outputs": [
    {
     "name": "stdout",
     "output_type": "stream",
     "text": [
      "1**3 + 1**2 + 1 + 1\n"
     ]
    },
    {
     "ename": "ValueError",
     "evalue": "invalid literal for int() with base 10: '1**3 + 1**2 + 1 + 1'",
     "output_type": "error",
     "traceback": [
      "\u001b[1;31m---------------------------------------------------------------------------\u001b[0m",
      "\u001b[1;31mValueError\u001b[0m                                Traceback (most recent call last)",
      "\u001b[1;32m~\\AppData\\Local\\Temp/ipykernel_13032/118739619.py\u001b[0m in \u001b[0;36m<module>\u001b[1;34m\u001b[0m\n\u001b[1;32m----> 1\u001b[1;33m \u001b[0mx\u001b[0m \u001b[1;33m=\u001b[0m \u001b[0mint\u001b[0m\u001b[1;33m(\u001b[0m\u001b[0minput\u001b[0m\u001b[1;33m(\u001b[0m\u001b[1;33m)\u001b[0m\u001b[1;33m)\u001b[0m\u001b[1;33m\u001b[0m\u001b[1;33m\u001b[0m\u001b[0m\n\u001b[0m",
      "\u001b[1;31mValueError\u001b[0m: invalid literal for int() with base 10: '1**3 + 1**2 + 1 + 1'"
     ]
    }
   ],
   "source": [
    "x = int(input())"
   ]
  },
  {
   "cell_type": "markdown",
   "id": "f1b0f02a",
   "metadata": {},
   "source": [
    "* Altaki çözümde 1 4 ve x küpü + x karesi + x + 1 x = 1 olarak k yı = 4 olarak aldık.\n",
    "* eval() fonksiyonu bize aldığımız inputun str direk int olarak içerde çalıştırmamızı sağlıyor.\n",
    "* bu fonksiyon tehlikeli bir fonksiyon eğer açık bırakırsak bilgisayarımıza sızabilirler.\n",
    "* o yüzden kullanıcıdan alınan inputun sınırlandırmamız gerekir eğer kullanmak ihtiyacı duyarsak"
   ]
  },
  {
   "cell_type": "code",
   "execution_count": 12,
   "id": "a9781243",
   "metadata": {},
   "outputs": [
    {
     "name": "stdout",
     "output_type": "stream",
     "text": [
      "1 4\n",
      "x+5\n",
      "False\n"
     ]
    }
   ],
   "source": [
    "ui = input().split()\n",
    "x = int(ui[0])\n",
    "print(eval(input()) == int(ui[1])) # hackerrank input() sorusu"
   ]
  },
  {
   "cell_type": "code",
   "execution_count": null,
   "id": "a7262723",
   "metadata": {},
   "outputs": [],
   "source": []
  }
 ],
 "metadata": {
  "kernelspec": {
   "display_name": "Python 3 (ipykernel)",
   "language": "python",
   "name": "python3"
  },
  "language_info": {
   "codemirror_mode": {
    "name": "ipython",
    "version": 3
   },
   "file_extension": ".py",
   "mimetype": "text/x-python",
   "name": "python",
   "nbconvert_exporter": "python",
   "pygments_lexer": "ipython3",
   "version": "3.7.8"
  }
 },
 "nbformat": 4,
 "nbformat_minor": 5
}

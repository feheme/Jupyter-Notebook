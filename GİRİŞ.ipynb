{
 "cells": [
  {
   "cell_type": "markdown",
   "id": "0070aa42",
   "metadata": {},
   "source": [
    "YENİ SEL İÇİN A YUKARIYA \n",
    "B AŞAĞIYA EKLER \n",
    "İKİ KERE D YE BASARSAN SİLER\n",
    "SHİFT+ENTER ÇALIŞTIRIP YENİ SELL E GEÇER\n",
    "CTRL + ENTER SÜREKLİ AYNI SELL İ ÇALIŞTIRIR."
   ]
  },
  {
   "cell_type": "markdown",
   "id": "c1439fd6",
   "metadata": {},
   "source": [
    " * python da # işareti tek satır yorum \"\"\" \"\"\" 3 çift tırnak çoklu yorum"
   ]
  },
  {
   "cell_type": "code",
   "execution_count": null,
   "id": "17a7fd3a",
   "metadata": {},
   "outputs": [],
   "source": []
  }
 ],
 "metadata": {
  "kernelspec": {
   "display_name": "Python 3 (ipykernel)",
   "language": "python",
   "name": "python3"
  },
  "language_info": {
   "codemirror_mode": {
    "name": "ipython",
    "version": 3
   },
   "file_extension": ".py",
   "mimetype": "text/x-python",
   "name": "python",
   "nbconvert_exporter": "python",
   "pygments_lexer": "ipython3",
   "version": "3.7.8"
  }
 },
 "nbformat": 4,
 "nbformat_minor": 5
}

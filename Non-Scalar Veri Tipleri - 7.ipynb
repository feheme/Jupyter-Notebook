{
 "cells": [
  {
   "cell_type": "markdown",
   "id": "3a9952df",
   "metadata": {},
   "source": [
    "# List"
   ]
  },
  {
   "cell_type": "code",
   "execution_count": 1,
   "id": "78643af4",
   "metadata": {},
   "outputs": [],
   "source": [
    "notlar = [78 , 80,43,65,90]"
   ]
  },
  {
   "cell_type": "code",
   "execution_count": 2,
   "id": "343cf873",
   "metadata": {},
   "outputs": [],
   "source": [
    "liste = [1,2,\"q\",\"b\",True,[1,2,3]]"
   ]
  },
  {
   "cell_type": "code",
   "execution_count": 3,
   "id": "42432e47",
   "metadata": {},
   "outputs": [
    {
     "data": {
      "text/plain": [
       "[1, 2, 3]"
      ]
     },
     "execution_count": 3,
     "metadata": {},
     "output_type": "execute_result"
    }
   ],
   "source": [
    "liste[-1]"
   ]
  },
  {
   "cell_type": "code",
   "execution_count": 4,
   "id": "f082bee2",
   "metadata": {},
   "outputs": [
    {
     "data": {
      "text/plain": [
       "[80, 43, 65, 90]"
      ]
     },
     "execution_count": 4,
     "metadata": {},
     "output_type": "execute_result"
    }
   ],
   "source": [
    "notlar[1:]"
   ]
  },
  {
   "cell_type": "markdown",
   "id": "1cc68859",
   "metadata": {},
   "source": [
    "* mutable"
   ]
  },
  {
   "cell_type": "code",
   "execution_count": 5,
   "id": "6fc67c3c",
   "metadata": {},
   "outputs": [],
   "source": [
    "liste[0] = \"hey\""
   ]
  },
  {
   "cell_type": "code",
   "execution_count": 6,
   "id": "901dede7",
   "metadata": {},
   "outputs": [
    {
     "data": {
      "text/plain": [
       "['hey', 2, 'q', 'b', True, [1, 2, 3]]"
      ]
     },
     "execution_count": 6,
     "metadata": {},
     "output_type": "execute_result"
    }
   ],
   "source": [
    "liste"
   ]
  },
  {
   "cell_type": "code",
   "execution_count": 7,
   "id": "f47d9d92",
   "metadata": {},
   "outputs": [],
   "source": [
    "liste[0:3] = 30,40,60"
   ]
  },
  {
   "cell_type": "code",
   "execution_count": 8,
   "id": "711567e3",
   "metadata": {},
   "outputs": [],
   "source": [
    "liste[0:3] = 30,40"
   ]
  },
  {
   "cell_type": "code",
   "execution_count": 9,
   "id": "d2023fa0",
   "metadata": {},
   "outputs": [
    {
     "ename": "TypeError",
     "evalue": "can only assign an iterable",
     "output_type": "error",
     "traceback": [
      "\u001b[1;31m---------------------------------------------------------------------------\u001b[0m",
      "\u001b[1;31mTypeError\u001b[0m                                 Traceback (most recent call last)",
      "\u001b[1;32m~\\AppData\\Local\\Temp/ipykernel_240/2311806905.py\u001b[0m in \u001b[0;36m<module>\u001b[1;34m\u001b[0m\n\u001b[1;32m----> 1\u001b[1;33m \u001b[0mliste\u001b[0m\u001b[1;33m[\u001b[0m\u001b[1;36m0\u001b[0m\u001b[1;33m:\u001b[0m\u001b[1;36m3\u001b[0m\u001b[1;33m]\u001b[0m \u001b[1;33m=\u001b[0m \u001b[1;36m30\u001b[0m \u001b[1;31m# tek değer veremiyoruz.\u001b[0m\u001b[1;33m\u001b[0m\u001b[1;33m\u001b[0m\u001b[0m\n\u001b[0m",
      "\u001b[1;31mTypeError\u001b[0m: can only assign an iterable"
     ]
    }
   ],
   "source": [
    "liste[0:3] = 30 # tek değer veremiyoruz."
   ]
  },
  {
   "cell_type": "code",
   "execution_count": 10,
   "id": "4239aac3",
   "metadata": {},
   "outputs": [],
   "source": [
    "liste[0:3] = [30] # böyle değiştirebiliriz."
   ]
  },
  {
   "cell_type": "code",
   "execution_count": 11,
   "id": "b88cad5e",
   "metadata": {},
   "outputs": [
    {
     "data": {
      "text/plain": [
       "3"
      ]
     },
     "execution_count": 11,
     "metadata": {},
     "output_type": "execute_result"
    }
   ],
   "source": [
    "len(liste)"
   ]
  },
  {
   "cell_type": "markdown",
   "id": "003efc66",
   "metadata": {},
   "source": [
    "# append()"
   ]
  },
  {
   "cell_type": "code",
   "execution_count": 14,
   "id": "8458d97b",
   "metadata": {},
   "outputs": [],
   "source": [
    "liste.append(200) # sonuna eleman ekledik tek eleman"
   ]
  },
  {
   "cell_type": "code",
   "execution_count": 13,
   "id": "d064f5b4",
   "metadata": {},
   "outputs": [
    {
     "data": {
      "text/plain": [
       "[30, True, [1, 2, 3], 200]"
      ]
     },
     "execution_count": 13,
     "metadata": {},
     "output_type": "execute_result"
    }
   ],
   "source": [
    "liste"
   ]
  },
  {
   "cell_type": "markdown",
   "id": "43fdfb81",
   "metadata": {},
   "source": [
    "# extend()"
   ]
  },
  {
   "cell_type": "code",
   "execution_count": 16,
   "id": "7375deaa",
   "metadata": {},
   "outputs": [],
   "source": [
    "liste.extend([100,200,300]) # birden çok eleman eklemek için kullanıyoruz."
   ]
  },
  {
   "cell_type": "markdown",
   "id": "3a18885f",
   "metadata": {},
   "source": [
    "# insert()"
   ]
  },
  {
   "cell_type": "code",
   "execution_count": 19,
   "id": "0cf57c0e",
   "metadata": {},
   "outputs": [],
   "source": [
    "liste.insert(0,100) # 0 index yerine 1oo yazdık diğer elemanlar bir sağa kaydı dikkat."
   ]
  },
  {
   "cell_type": "code",
   "execution_count": 20,
   "id": "1ef01de6",
   "metadata": {},
   "outputs": [
    {
     "data": {
      "text/plain": [
       "[100, 100, 30, True, [1, 2, 3], 200, 200, 100, 200, 300, 100, 200, 300]"
      ]
     },
     "execution_count": 20,
     "metadata": {},
     "output_type": "execute_result"
    }
   ],
   "source": [
    "liste"
   ]
  },
  {
   "cell_type": "markdown",
   "id": "1fc92d24",
   "metadata": {},
   "source": [
    "# remove()"
   ]
  },
  {
   "cell_type": "code",
   "execution_count": 22,
   "id": "58829560",
   "metadata": {},
   "outputs": [
    {
     "ename": "ValueError",
     "evalue": "list.remove(x): x not in list",
     "output_type": "error",
     "traceback": [
      "\u001b[1;31m---------------------------------------------------------------------------\u001b[0m",
      "\u001b[1;31mValueError\u001b[0m                                Traceback (most recent call last)",
      "\u001b[1;32m~\\AppData\\Local\\Temp/ipykernel_240/867361588.py\u001b[0m in \u001b[0;36m<module>\u001b[1;34m\u001b[0m\n\u001b[1;32m----> 1\u001b[1;33m \u001b[0mliste\u001b[0m\u001b[1;33m.\u001b[0m\u001b[0mremove\u001b[0m\u001b[1;33m(\u001b[0m\u001b[1;36m40\u001b[0m\u001b[1;33m)\u001b[0m \u001b[1;31m# ilk görünen 40 ı siler eğer varsa\u001b[0m\u001b[1;33m\u001b[0m\u001b[1;33m\u001b[0m\u001b[0m\n\u001b[0m",
      "\u001b[1;31mValueError\u001b[0m: list.remove(x): x not in list"
     ]
    }
   ],
   "source": [
    "liste.remove(40) # ilk görünen 40 ı siler eğer varsa"
   ]
  },
  {
   "cell_type": "markdown",
   "id": "ca58a485",
   "metadata": {},
   "source": [
    "# pop()"
   ]
  },
  {
   "cell_type": "code",
   "execution_count": 24,
   "id": "7ee56b1e",
   "metadata": {},
   "outputs": [
    {
     "data": {
      "text/plain": [
       "30"
      ]
     },
     "execution_count": 24,
     "metadata": {},
     "output_type": "execute_result"
    }
   ],
   "source": [
    "liste.pop() # bir değer döndürür ve siler en sondaki elemanı siler yada\n",
    "liste.pop(2) # böylede yapabiliriz."
   ]
  },
  {
   "cell_type": "markdown",
   "id": "2dcec0d5",
   "metadata": {},
   "source": [
    "# count()"
   ]
  },
  {
   "cell_type": "code",
   "execution_count": 26,
   "id": "565c1d21",
   "metadata": {},
   "outputs": [
    {
     "data": {
      "text/plain": [
       "4"
      ]
     },
     "execution_count": 26,
     "metadata": {},
     "output_type": "execute_result"
    }
   ],
   "source": [
    "liste.count(100) # kaç defa 100 döndürülmüş ona bakıyor"
   ]
  },
  {
   "cell_type": "code",
   "execution_count": 27,
   "id": "6572fd92",
   "metadata": {},
   "outputs": [
    {
     "data": {
      "text/plain": [
       "0"
      ]
     },
     "execution_count": 27,
     "metadata": {},
     "output_type": "execute_result"
    }
   ],
   "source": [
    "liste.count(1000) # hiç yoksa 0 döndürüyor."
   ]
  },
  {
   "cell_type": "markdown",
   "id": "ed632cc1",
   "metadata": {},
   "source": [
    "# Aliasing"
   ]
  },
  {
   "cell_type": "code",
   "execution_count": 28,
   "id": "8787738e",
   "metadata": {},
   "outputs": [],
   "source": [
    "a = 2\n",
    "b = a\n",
    "a = 3"
   ]
  },
  {
   "cell_type": "code",
   "execution_count": 29,
   "id": "6e5929b7",
   "metadata": {},
   "outputs": [
    {
     "data": {
      "text/plain": [
       "3"
      ]
     },
     "execution_count": 29,
     "metadata": {},
     "output_type": "execute_result"
    }
   ],
   "source": [
    "a"
   ]
  },
  {
   "cell_type": "code",
   "execution_count": 30,
   "id": "ed2a6bcb",
   "metadata": {},
   "outputs": [
    {
     "data": {
      "text/plain": [
       "2"
      ]
     },
     "execution_count": 30,
     "metadata": {},
     "output_type": "execute_result"
    }
   ],
   "source": [
    "b"
   ]
  },
  {
   "cell_type": "code",
   "execution_count": 31,
   "id": "5ad42b82",
   "metadata": {},
   "outputs": [],
   "source": [
    "l = [1,2,3] # kutucuğu etikelenen değer oluyor.\n",
    "\n",
    "l2 = l"
   ]
  },
  {
   "cell_type": "code",
   "execution_count": 32,
   "id": "ccc65511",
   "metadata": {},
   "outputs": [
    {
     "data": {
      "text/plain": [
       "[1, 2, 3]"
      ]
     },
     "execution_count": 32,
     "metadata": {},
     "output_type": "execute_result"
    }
   ],
   "source": [
    "l2"
   ]
  },
  {
   "cell_type": "code",
   "execution_count": 33,
   "id": "4a09e02d",
   "metadata": {},
   "outputs": [],
   "source": [
    "l[0] = 100"
   ]
  },
  {
   "cell_type": "code",
   "execution_count": 34,
   "id": "fbf365e4",
   "metadata": {},
   "outputs": [
    {
     "data": {
      "text/plain": [
       "[100, 2, 3]"
      ]
     },
     "execution_count": 34,
     "metadata": {},
     "output_type": "execute_result"
    }
   ],
   "source": [
    "l"
   ]
  },
  {
   "cell_type": "code",
   "execution_count": 35,
   "id": "55e5b19c",
   "metadata": {},
   "outputs": [
    {
     "data": {
      "text/plain": [
       "[100, 2, 3]"
      ]
     },
     "execution_count": 35,
     "metadata": {},
     "output_type": "execute_result"
    }
   ],
   "source": [
    "l2"
   ]
  },
  {
   "cell_type": "code",
   "execution_count": 36,
   "id": "4c6ac50f",
   "metadata": {},
   "outputs": [],
   "source": [
    "# buraya dikkat et birbirine eşitleyince ikiside değişti."
   ]
  },
  {
   "cell_type": "code",
   "execution_count": 39,
   "id": "a6f0dba9",
   "metadata": {},
   "outputs": [],
   "source": [
    "l2 = l.copy() # böyle yaparsak da değiştirdiğimiz değer bunu etkilemeyecektir"
   ]
  },
  {
   "cell_type": "markdown",
   "id": "c9a66795",
   "metadata": {},
   "source": [
    "# Listlerde Concatenation"
   ]
  },
  {
   "cell_type": "code",
   "execution_count": 40,
   "id": "78e46161",
   "metadata": {},
   "outputs": [
    {
     "data": {
      "text/plain": [
       "[1, 2, 3, 4, 5, 6]"
      ]
     },
     "execution_count": 40,
     "metadata": {},
     "output_type": "execute_result"
    }
   ],
   "source": [
    "l1 = [1,2,3]\n",
    "l2 = [4,5,6]\n",
    "l1+l2"
   ]
  },
  {
   "cell_type": "markdown",
   "id": "0a9d28f8",
   "metadata": {},
   "source": [
    "# index()"
   ]
  },
  {
   "cell_type": "code",
   "execution_count": 41,
   "id": "8981b5cb",
   "metadata": {},
   "outputs": [],
   "source": [
    "l = [1,2,3,4,5,6,3]"
   ]
  },
  {
   "cell_type": "code",
   "execution_count": 42,
   "id": "f70df41f",
   "metadata": {},
   "outputs": [
    {
     "data": {
      "text/plain": [
       "[1, 2, 3, 4, 5, 6, 3]"
      ]
     },
     "execution_count": 42,
     "metadata": {},
     "output_type": "execute_result"
    }
   ],
   "source": [
    "l"
   ]
  },
  {
   "cell_type": "code",
   "execution_count": 44,
   "id": "ef03c0a9",
   "metadata": {},
   "outputs": [
    {
     "data": {
      "text/plain": [
       "2"
      ]
     },
     "execution_count": 44,
     "metadata": {},
     "output_type": "execute_result"
    }
   ],
   "source": [
    "l.index(3) # ilk görülen index i basıyor"
   ]
  },
  {
   "cell_type": "code",
   "execution_count": 45,
   "id": "4c29493b",
   "metadata": {},
   "outputs": [
    {
     "ename": "ValueError",
     "evalue": "7 is not in list",
     "output_type": "error",
     "traceback": [
      "\u001b[1;31m---------------------------------------------------------------------------\u001b[0m",
      "\u001b[1;31mValueError\u001b[0m                                Traceback (most recent call last)",
      "\u001b[1;32m~\\AppData\\Local\\Temp/ipykernel_240/1746210485.py\u001b[0m in \u001b[0;36m<module>\u001b[1;34m\u001b[0m\n\u001b[1;32m----> 1\u001b[1;33m \u001b[0ml\u001b[0m\u001b[1;33m.\u001b[0m\u001b[0mindex\u001b[0m\u001b[1;33m(\u001b[0m\u001b[1;36m7\u001b[0m\u001b[1;33m)\u001b[0m\u001b[1;33m\u001b[0m\u001b[1;33m\u001b[0m\u001b[0m\n\u001b[0m",
      "\u001b[1;31mValueError\u001b[0m: 7 is not in list"
     ]
    }
   ],
   "source": [
    "l.index(7) # liste de yoksa error verir"
   ]
  },
  {
   "cell_type": "markdown",
   "id": "5a40b74c",
   "metadata": {},
   "source": [
    "# reverse()"
   ]
  },
  {
   "cell_type": "code",
   "execution_count": 51,
   "id": "bb011388",
   "metadata": {},
   "outputs": [],
   "source": [
    "l.reverse() # inplace : yani L' yi günceller"
   ]
  },
  {
   "cell_type": "code",
   "execution_count": 52,
   "id": "f01fbbe8",
   "metadata": {},
   "outputs": [
    {
     "data": {
      "text/plain": [
       "[3, 6, 5, 4, 3, 2, 1]"
      ]
     },
     "execution_count": 52,
     "metadata": {},
     "output_type": "execute_result"
    }
   ],
   "source": [
    "l"
   ]
  },
  {
   "cell_type": "code",
   "execution_count": 53,
   "id": "53dbc71e",
   "metadata": {},
   "outputs": [
    {
     "data": {
      "text/plain": [
       "[1, 2, 3, 4, 5, 6, 3]"
      ]
     },
     "execution_count": 53,
     "metadata": {},
     "output_type": "execute_result"
    }
   ],
   "source": [
    "l[::-1] # slicing inplace değil"
   ]
  },
  {
   "cell_type": "markdown",
   "id": "889ba410",
   "metadata": {},
   "source": [
    "# List'in Elemanlarını Sıralamak(sorting)"
   ]
  },
  {
   "cell_type": "code",
   "execution_count": 54,
   "id": "1f59365d",
   "metadata": {},
   "outputs": [],
   "source": [
    "l = [\"b\",\"a\",\"c\"]"
   ]
  },
  {
   "cell_type": "code",
   "execution_count": 61,
   "id": "5ace0cb3",
   "metadata": {},
   "outputs": [],
   "source": [
    "l3 = sorted(l) # inplace değil listeyi güncellemez sadece bu fonksiyon çalışıtırılca günceller."
   ]
  },
  {
   "cell_type": "code",
   "execution_count": 62,
   "id": "34b667a0",
   "metadata": {},
   "outputs": [
    {
     "data": {
      "text/plain": [
       "['a', 'b', 'c']"
      ]
     },
     "execution_count": 62,
     "metadata": {},
     "output_type": "execute_result"
    }
   ],
   "source": [
    "l3"
   ]
  },
  {
   "cell_type": "code",
   "execution_count": 60,
   "id": "8102e7f5",
   "metadata": {},
   "outputs": [],
   "source": [
    "l.sort() # inplace oluyor"
   ]
  },
  {
   "cell_type": "code",
   "execution_count": 59,
   "id": "232f9072",
   "metadata": {},
   "outputs": [
    {
     "data": {
      "text/plain": [
       "['a', 'b', 'c']"
      ]
     },
     "execution_count": 59,
     "metadata": {},
     "output_type": "execute_result"
    }
   ],
   "source": [
    "l"
   ]
  },
  {
   "cell_type": "code",
   "execution_count": 63,
   "id": "b3c3f75d",
   "metadata": {},
   "outputs": [],
   "source": [
    "liste = [\"b\",\"a\",\"c\",\"1\",\"3\",\"4\"]"
   ]
  },
  {
   "cell_type": "code",
   "execution_count": 64,
   "id": "d1dffd2b",
   "metadata": {},
   "outputs": [],
   "source": [
    "liste.sort()"
   ]
  },
  {
   "cell_type": "code",
   "execution_count": 65,
   "id": "43522cea",
   "metadata": {},
   "outputs": [
    {
     "data": {
      "text/plain": [
       "['1', '3', '4', 'a', 'b', 'c']"
      ]
     },
     "execution_count": 65,
     "metadata": {},
     "output_type": "execute_result"
    }
   ],
   "source": [
    "liste"
   ]
  },
  {
   "cell_type": "code",
   "execution_count": 68,
   "id": "dd7248a4",
   "metadata": {},
   "outputs": [],
   "source": [
    "l = [\"b\",\"a\",\"c\",1,2] #hata verir sıralayamaz"
   ]
  },
  {
   "cell_type": "code",
   "execution_count": 67,
   "id": "28200be8",
   "metadata": {},
   "outputs": [
    {
     "ename": "TypeError",
     "evalue": "'<' not supported between instances of 'int' and 'str'",
     "output_type": "error",
     "traceback": [
      "\u001b[1;31m---------------------------------------------------------------------------\u001b[0m",
      "\u001b[1;31mTypeError\u001b[0m                                 Traceback (most recent call last)",
      "\u001b[1;32m~\\AppData\\Local\\Temp/ipykernel_240/4149526160.py\u001b[0m in \u001b[0;36m<module>\u001b[1;34m\u001b[0m\n\u001b[1;32m----> 1\u001b[1;33m \u001b[0ml\u001b[0m\u001b[1;33m.\u001b[0m\u001b[0msort\u001b[0m\u001b[1;33m(\u001b[0m\u001b[1;33m)\u001b[0m\u001b[1;33m\u001b[0m\u001b[1;33m\u001b[0m\u001b[0m\n\u001b[0m",
      "\u001b[1;31mTypeError\u001b[0m: '<' not supported between instances of 'int' and 'str'"
     ]
    }
   ],
   "source": [
    "l.sort()"
   ]
  },
  {
   "cell_type": "code",
   "execution_count": 70,
   "id": "066be857",
   "metadata": {},
   "outputs": [],
   "source": [
    "# float ile  de aynı işlemler geçerli\n"
   ]
  },
  {
   "cell_type": "code",
   "execution_count": 71,
   "id": "54c13486",
   "metadata": {},
   "outputs": [],
   "source": [
    "# HackerRank List() cevabı"
   ]
  },
  {
   "cell_type": "code",
   "execution_count": null,
   "id": "a70f1c6c",
   "metadata": {},
   "outputs": [],
   "source": [
    "if __name__ == '__main__':\n",
    "    N = int(input())\n",
    "    output = []\n",
    "    \n",
    "    for i in range(0,N):\n",
    "        inpt = input().split()\n",
    "        \n",
    "        if inpt[0] == \"insert\":\n",
    "            output.insert(int(inpt[1]),int(inpt[2]))\n",
    "        elif inpt[0] == \"print\":\n",
    "            print(output)\n",
    "        elif inpt[0] == \"remove\":\n",
    "            output.remove(int(inpt[1]))\n",
    "        elif [0] == \"append\":\n",
    "            output.append(int(inpt[1]))\n",
    "        elif inpt[0] == \"reverse\":\n",
    "            output.reverse()\n",
    "        elif inpt[0] == \"sort\":\n",
    "            output.sort()\n",
    "        elif inpt[0] == \"pop\":\n",
    "            output.pop()\n",
    "            "
   ]
  },
  {
   "cell_type": "markdown",
   "id": "d5f643e0",
   "metadata": {},
   "source": [
    "# List comprehension"
   ]
  },
  {
   "cell_type": "code",
   "execution_count": 1,
   "id": "85f839e2",
   "metadata": {},
   "outputs": [],
   "source": [
    "square = []"
   ]
  },
  {
   "cell_type": "code",
   "execution_count": 2,
   "id": "08d08a79",
   "metadata": {},
   "outputs": [],
   "source": [
    "for i in range(1,11):\n",
    "    square.append(i*i)"
   ]
  },
  {
   "cell_type": "code",
   "execution_count": 4,
   "id": "836bb92c",
   "metadata": {},
   "outputs": [
    {
     "data": {
      "text/plain": [
       "[1, 4, 9, 16, 25, 36, 49, 64, 81, 100]"
      ]
     },
     "execution_count": 4,
     "metadata": {},
     "output_type": "execute_result"
    }
   ],
   "source": [
    "square # 1 den 10 kara olan sayıların karelerini ekledik for kullanarak."
   ]
  },
  {
   "cell_type": "code",
   "execution_count": 6,
   "id": "d30f460b",
   "metadata": {},
   "outputs": [
    {
     "data": {
      "text/plain": [
       "[1, 4, 9, 16, 25, 36, 49, 64, 81, 100]"
      ]
     },
     "execution_count": 6,
     "metadata": {},
     "output_type": "execute_result"
    }
   ],
   "source": [
    "square = [i*i for i in range(1,11)] # tek satırda yukarda işlemin aynısı yaptık buna list comprehension denir.\n",
    "square"
   ]
  },
  {
   "cell_type": "code",
   "execution_count": 9,
   "id": "67ace5f6",
   "metadata": {},
   "outputs": [
    {
     "data": {
      "text/plain": [
       "[1, 8, 27, 64, 125, 216, 343, 512, 729, 1000]"
      ]
     },
     "execution_count": 9,
     "metadata": {},
     "output_type": "execute_result"
    }
   ],
   "source": [
    "def cube(x):\n",
    "    return x**3\n",
    "suare = [cube(x) for x in range(1,11)]\n",
    "suare #fonksiyon olarak kullanabiliriz.Burası önemli"
   ]
  },
  {
   "cell_type": "code",
   "execution_count": 10,
   "id": "dfe49d06",
   "metadata": {},
   "outputs": [],
   "source": [
    "kare = [1,2,3,4,5,6,7]\n",
    "odd_kare = [x for x in kare if x % 2 == 1]"
   ]
  },
  {
   "cell_type": "code",
   "execution_count": 12,
   "id": "1a9b0d9a",
   "metadata": {},
   "outputs": [
    {
     "data": {
      "text/plain": [
       "[1, 3, 5, 7]"
      ]
     },
     "execution_count": 12,
     "metadata": {},
     "output_type": "execute_result"
    }
   ],
   "source": [
    "odd_kare #tek sayıları bastırmayı sağladı yukarda conditional bir ifade de verdik ona dikkat et"
   ]
  },
  {
   "cell_type": "code",
   "execution_count": 15,
   "id": "b0fbaa5c",
   "metadata": {},
   "outputs": [],
   "source": [
    "def odd(x):\n",
    "    if x % 2 == 0:\n",
    "        return False\n",
    "\n",
    "    return True"
   ]
  },
  {
   "cell_type": "code",
   "execution_count": 16,
   "id": "2c6e8ccc",
   "metadata": {},
   "outputs": [],
   "source": [
    "odd_kare = [x for x in kare if odd(x)] # koşullu ifadenin orayıda fonksiyon yazarak belirtebilirdik."
   ]
  },
  {
   "cell_type": "code",
   "execution_count": 17,
   "id": "2170cf0b",
   "metadata": {
    "scrolled": true
   },
   "outputs": [
    {
     "data": {
      "text/plain": [
       "[1, 3, 5, 7]"
      ]
     },
     "execution_count": 17,
     "metadata": {},
     "output_type": "execute_result"
    }
   ],
   "source": [
    "odd_kare"
   ]
  },
  {
   "cell_type": "code",
   "execution_count": 18,
   "id": "0b38361e",
   "metadata": {},
   "outputs": [
    {
     "data": {
      "text/plain": [
       "\"\\n\\ndef topla(x,y,z,m):\\n    if x+y+z != m:\\n        return True\\n    return False\\n\\n\\n\\n\\n\\nif __name__ == '__main__':\\n    x = int(input())\\n    y = int(input())\\n    z = int(input())\\n    n = int(input())\\n    \\n   \\n    \\n    print ([[a,b,c] for a in range(x+1) for b in range(y+1) for c in range(z+1) if topla(a,b,c,n) ])  \""
      ]
     },
     "execution_count": 18,
     "metadata": {},
     "output_type": "execute_result"
    }
   ],
   "source": [
    "\"\"\"\n",
    "\n",
    "def topla(x,y,z,m):\n",
    "    if x+y+z != m:\n",
    "        return True\n",
    "    return False\n",
    "\n",
    "\n",
    "\n",
    "\n",
    "\n",
    "if __name__ == '__main__':\n",
    "    x = int(input())\n",
    "    y = int(input())\n",
    "    z = int(input())\n",
    "    n = int(input())\n",
    "    \n",
    "   \n",
    "    \n",
    "    print ([[a,b,c] for a in range(x+1) for b in range(y+1) for c in range(z+1) if topla(a,b,c,n) ])  \"\"\" # list comprehension soru çözümü hackerrank"
   ]
  },
  {
   "cell_type": "code",
   "execution_count": 19,
   "id": "4d4c9577",
   "metadata": {},
   "outputs": [],
   "source": [
    "x , y = (3,4)"
   ]
  },
  {
   "cell_type": "code",
   "execution_count": 20,
   "id": "aeeb994e",
   "metadata": {},
   "outputs": [],
   "source": [
    "x, *y = (1,2,3,4,5,6)"
   ]
  },
  {
   "cell_type": "code",
   "execution_count": 21,
   "id": "6bdb8177",
   "metadata": {},
   "outputs": [
    {
     "data": {
      "text/plain": [
       "1"
      ]
     },
     "execution_count": 21,
     "metadata": {},
     "output_type": "execute_result"
    }
   ],
   "source": [
    "x"
   ]
  },
  {
   "cell_type": "code",
   "execution_count": 22,
   "id": "ab772305",
   "metadata": {},
   "outputs": [
    {
     "data": {
      "text/plain": [
       "[2, 3, 4, 5, 6]"
      ]
     },
     "execution_count": 22,
     "metadata": {},
     "output_type": "execute_result"
    }
   ],
   "source": [
    "y # iki tane yıldız olursa hata verir"
   ]
  },
  {
   "cell_type": "code",
   "execution_count": null,
   "id": "c3e0f03e",
   "metadata": {},
   "outputs": [],
   "source": []
  },
  {
   "cell_type": "markdown",
   "id": "292bee19",
   "metadata": {},
   "source": [
    "# Tuple\n",
    "* Tupler lar immutable dır. Yani değiştirilemez listelerle aynı diğerleri"
   ]
  },
  {
   "cell_type": "code",
   "execution_count": 1,
   "id": "9fecb850",
   "metadata": {},
   "outputs": [],
   "source": [
    "demet = (10,34)"
   ]
  },
  {
   "cell_type": "code",
   "execution_count": 2,
   "id": "61b23342",
   "metadata": {},
   "outputs": [
    {
     "data": {
      "text/plain": [
       "(10, 34)"
      ]
     },
     "execution_count": 2,
     "metadata": {},
     "output_type": "execute_result"
    }
   ],
   "source": [
    "demet"
   ]
  },
  {
   "cell_type": "code",
   "execution_count": 3,
   "id": "8a92081d",
   "metadata": {},
   "outputs": [
    {
     "data": {
      "text/plain": [
       "10"
      ]
     },
     "execution_count": 3,
     "metadata": {},
     "output_type": "execute_result"
    }
   ],
   "source": [
    "demet[0]"
   ]
  },
  {
   "cell_type": "code",
   "execution_count": 4,
   "id": "ac4d71c6",
   "metadata": {},
   "outputs": [
    {
     "ename": "TypeError",
     "evalue": "'tuple' object does not support item assignment",
     "output_type": "error",
     "traceback": [
      "\u001b[1;31m---------------------------------------------------------------------------\u001b[0m",
      "\u001b[1;31mTypeError\u001b[0m                                 Traceback (most recent call last)",
      "\u001b[1;32m~\\AppData\\Local\\Temp/ipykernel_7204/1625990970.py\u001b[0m in \u001b[0;36m<module>\u001b[1;34m\u001b[0m\n\u001b[1;32m----> 1\u001b[1;33m \u001b[0mdemet\u001b[0m\u001b[1;33m[\u001b[0m\u001b[1;36m0\u001b[0m\u001b[1;33m]\u001b[0m \u001b[1;33m=\u001b[0m \u001b[1;36m100\u001b[0m\u001b[1;33m\u001b[0m\u001b[1;33m\u001b[0m\u001b[0m\n\u001b[0m",
      "\u001b[1;31mTypeError\u001b[0m: 'tuple' object does not support item assignment"
     ]
    }
   ],
   "source": [
    "demet[0] = 100"
   ]
  },
  {
   "cell_type": "code",
   "execution_count": 5,
   "id": "6d5a8c72",
   "metadata": {},
   "outputs": [],
   "source": [
    "t = (1,2,3,\"a\")"
   ]
  },
  {
   "cell_type": "code",
   "execution_count": 8,
   "id": "bbfcf4b5",
   "metadata": {},
   "outputs": [],
   "source": [
    "t =((1,2),3)\n",
    "t = ([1,2,3],2,(1,2))"
   ]
  },
  {
   "cell_type": "code",
   "execution_count": 10,
   "id": "54c5ad6a",
   "metadata": {},
   "outputs": [],
   "source": [
    "t[0][0] = 10 #buraya dikkat tuple içinde bir liste var"
   ]
  },
  {
   "cell_type": "markdown",
   "id": "3ab6f2c7",
   "metadata": {},
   "source": [
    "# Elemanların Değerlerini Değiştirmek"
   ]
  },
  {
   "cell_type": "code",
   "execution_count": 11,
   "id": "ff12f652",
   "metadata": {},
   "outputs": [],
   "source": [
    "x = 2\n",
    "y = 3"
   ]
  },
  {
   "cell_type": "code",
   "execution_count": 12,
   "id": "03bbab7e",
   "metadata": {},
   "outputs": [],
   "source": [
    "temp = x\n",
    "x = y\n",
    "y = temp"
   ]
  },
  {
   "cell_type": "code",
   "execution_count": 13,
   "id": "7a602922",
   "metadata": {},
   "outputs": [
    {
     "data": {
      "text/plain": [
       "3"
      ]
     },
     "execution_count": 13,
     "metadata": {},
     "output_type": "execute_result"
    }
   ],
   "source": [
    "x"
   ]
  },
  {
   "cell_type": "code",
   "execution_count": 14,
   "id": "1c74c5af",
   "metadata": {},
   "outputs": [
    {
     "data": {
      "text/plain": [
       "2"
      ]
     },
     "execution_count": 14,
     "metadata": {},
     "output_type": "execute_result"
    }
   ],
   "source": [
    "y"
   ]
  },
  {
   "cell_type": "code",
   "execution_count": 15,
   "id": "128ebae2",
   "metadata": {},
   "outputs": [],
   "source": [
    "x = 2\n",
    "y = 3\n"
   ]
  },
  {
   "cell_type": "code",
   "execution_count": 18,
   "id": "bcf7a84b",
   "metadata": {},
   "outputs": [],
   "source": [
    "(x,y) = (y,x)  #değerlerin yerlerini  değiştirebiliriz."
   ]
  },
  {
   "cell_type": "code",
   "execution_count": 19,
   "id": "76a5cd79",
   "metadata": {},
   "outputs": [
    {
     "data": {
      "text/plain": [
       "3"
      ]
     },
     "execution_count": 19,
     "metadata": {},
     "output_type": "execute_result"
    }
   ],
   "source": [
    "x"
   ]
  },
  {
   "cell_type": "markdown",
   "id": "a2adf398",
   "metadata": {},
   "source": [
    "* parantez koymamıza da gerek yok direk tuple oluyor."
   ]
  },
  {
   "cell_type": "code",
   "execution_count": 20,
   "id": "c75801ec",
   "metadata": {},
   "outputs": [
    {
     "data": {
      "text/plain": [
       "(1, 2, 3, 4)"
      ]
     },
     "execution_count": 20,
     "metadata": {},
     "output_type": "execute_result"
    }
   ],
   "source": [
    "1,2,3,4"
   ]
  },
  {
   "cell_type": "code",
   "execution_count": 21,
   "id": "1267c8dd",
   "metadata": {},
   "outputs": [],
   "source": [
    "a = 1,2,3,4 # direk tuple oluyor"
   ]
  },
  {
   "cell_type": "code",
   "execution_count": 22,
   "id": "b33e6f22",
   "metadata": {},
   "outputs": [
    {
     "data": {
      "text/plain": [
       "tuple"
      ]
     },
     "execution_count": 22,
     "metadata": {},
     "output_type": "execute_result"
    }
   ],
   "source": [
    "type(a)"
   ]
  },
  {
   "cell_type": "code",
   "execution_count": 23,
   "id": "5bfec2dc",
   "metadata": {},
   "outputs": [],
   "source": [
    "x = 2\n",
    "y = 3"
   ]
  },
  {
   "cell_type": "code",
   "execution_count": 25,
   "id": "bb48dc77",
   "metadata": {},
   "outputs": [],
   "source": [
    "x,y = y,x  # o yüzden çalışıyor"
   ]
  },
  {
   "cell_type": "code",
   "execution_count": 26,
   "id": "b6b40ea7",
   "metadata": {},
   "outputs": [],
   "source": [
    "[x,y] = [y,x] #bu da çalışıyor aynı şekilde"
   ]
  },
  {
   "cell_type": "markdown",
   "id": "bc1826f2",
   "metadata": {},
   "source": [
    "* HackerRank tuples() sorusu cevabı"
   ]
  },
  {
   "cell_type": "code",
   "execution_count": null,
   "id": "a0cee3c6",
   "metadata": {},
   "outputs": [],
   "source": [
    "\n",
    "\"\"\" if __name__ == '__main__':\n",
    "    n = int(input())\n",
    "    integer_list = map(int, input().split())\n",
    "    liste = list(integer_list)\n",
    "    t = tuple(liste)\n",
    "    print(hash(t))\"\"\"\n",
    "    \n",
    "\n"
   ]
  },
  {
   "cell_type": "code",
   "execution_count": 30,
   "id": "d627a141",
   "metadata": {},
   "outputs": [],
   "source": [
    "l = [1,2,3,4]\n"
   ]
  },
  {
   "cell_type": "code",
   "execution_count": 31,
   "id": "6ceb9d90",
   "metadata": {},
   "outputs": [
    {
     "data": {
      "text/plain": [
       "False"
      ]
     },
     "execution_count": 31,
     "metadata": {},
     "output_type": "execute_result"
    }
   ],
   "source": [
    "40 in l"
   ]
  },
  {
   "cell_type": "code",
   "execution_count": 32,
   "id": "d0544078",
   "metadata": {},
   "outputs": [],
   "source": [
    "# tupleda da geçerli"
   ]
  },
  {
   "cell_type": "markdown",
   "id": "04cc9267",
   "metadata": {},
   "source": [
    "# Dictionaries"
   ]
  },
  {
   "cell_type": "code",
   "execution_count": 33,
   "id": "2ffded9e",
   "metadata": {},
   "outputs": [],
   "source": [
    "notlar = {\"Deniz\" : 80,\"Ege\" : 72,\"Gizem\" : 95} # key1:value1, key2:value2\n",
    "# mutablelar değiştirilebilirler."
   ]
  },
  {
   "cell_type": "code",
   "execution_count": 35,
   "id": "e444cd57",
   "metadata": {},
   "outputs": [
    {
     "data": {
      "text/plain": [
       "72"
      ]
     },
     "execution_count": 35,
     "metadata": {},
     "output_type": "execute_result"
    }
   ],
   "source": [
    "notlar[\"Ege\"] # bu şekilde key verip value alabiliyorz."
   ]
  },
  {
   "cell_type": "code",
   "execution_count": 36,
   "id": "99e6b1f1",
   "metadata": {},
   "outputs": [],
   "source": [
    "# value string de olabilir "
   ]
  },
  {
   "cell_type": "code",
   "execution_count": 37,
   "id": "f3a3f9b5",
   "metadata": {},
   "outputs": [
    {
     "ename": "KeyError",
     "evalue": "'Mert'",
     "output_type": "error",
     "traceback": [
      "\u001b[1;31m---------------------------------------------------------------------------\u001b[0m",
      "\u001b[1;31mKeyError\u001b[0m                                  Traceback (most recent call last)",
      "\u001b[1;32m~\\AppData\\Local\\Temp/ipykernel_7204/3837485061.py\u001b[0m in \u001b[0;36m<module>\u001b[1;34m\u001b[0m\n\u001b[1;32m----> 1\u001b[1;33m \u001b[0mnotlar\u001b[0m\u001b[1;33m[\u001b[0m\u001b[1;34m\"Mert\"\u001b[0m\u001b[1;33m]\u001b[0m\u001b[1;33m\u001b[0m\u001b[1;33m\u001b[0m\u001b[0m\n\u001b[0m",
      "\u001b[1;31mKeyError\u001b[0m: 'Mert'"
     ]
    }
   ],
   "source": [
    "notlar[\"Mert\"]"
   ]
  },
  {
   "cell_type": "code",
   "execution_count": 40,
   "id": "77582f2b",
   "metadata": {},
   "outputs": [
    {
     "ename": "KeyError",
     "evalue": "0",
     "output_type": "error",
     "traceback": [
      "\u001b[1;31m---------------------------------------------------------------------------\u001b[0m",
      "\u001b[1;31mKeyError\u001b[0m                                  Traceback (most recent call last)",
      "\u001b[1;32m~\\AppData\\Local\\Temp/ipykernel_7204/162074433.py\u001b[0m in \u001b[0;36m<module>\u001b[1;34m\u001b[0m\n\u001b[1;32m----> 1\u001b[1;33m \u001b[0mnotlar\u001b[0m\u001b[1;33m[\u001b[0m\u001b[1;36m0\u001b[0m\u001b[1;33m]\u001b[0m  \u001b[1;31m# hata verir böyle bir indexing yok dikkat et 0 sözlükte etikelenmemiş\u001b[0m\u001b[1;33m\u001b[0m\u001b[1;33m\u001b[0m\u001b[0m\n\u001b[0m",
      "\u001b[1;31mKeyError\u001b[0m: 0"
     ]
    }
   ],
   "source": [
    "notlar[0]  # hata verir böyle bir indexing yok dikkat et 0 sözlükte etikelenmemiş"
   ]
  },
  {
   "cell_type": "code",
   "execution_count": 41,
   "id": "0ecfab07",
   "metadata": {},
   "outputs": [],
   "source": [
    "notlar[\"Ege\"] = notlar[\"Ege\"] + 5"
   ]
  },
  {
   "cell_type": "code",
   "execution_count": 42,
   "id": "ed0b4966",
   "metadata": {},
   "outputs": [
    {
     "data": {
      "text/plain": [
       "3"
      ]
     },
     "execution_count": 42,
     "metadata": {},
     "output_type": "execute_result"
    }
   ],
   "source": [
    "len(notlar) # kaç tane key varsa onu verir"
   ]
  },
  {
   "cell_type": "code",
   "execution_count": 43,
   "id": "4af0cf86",
   "metadata": {},
   "outputs": [],
   "source": [
    "notlar[\"Mert\"] = 58 # yeni bir key ekledik dikkat\n"
   ]
  },
  {
   "cell_type": "code",
   "execution_count": 44,
   "id": "7b0d1167",
   "metadata": {},
   "outputs": [],
   "source": [
    "del notlar[\"Mert\"] # silme işlemi de böyle yapılıyor."
   ]
  },
  {
   "cell_type": "code",
   "execution_count": 45,
   "id": "9c833cbc",
   "metadata": {},
   "outputs": [],
   "source": [
    "# Sadece immutable tipindeki veriler key olabilir"
   ]
  },
  {
   "cell_type": "code",
   "execution_count": 46,
   "id": "0f6c9392",
   "metadata": {},
   "outputs": [],
   "source": [
    "d = {1:2,\"3\":\"b\"}"
   ]
  },
  {
   "cell_type": "code",
   "execution_count": 48,
   "id": "50e0ba10",
   "metadata": {},
   "outputs": [
    {
     "ename": "TypeError",
     "evalue": "unhashable type: 'list'",
     "output_type": "error",
     "traceback": [
      "\u001b[1;31m---------------------------------------------------------------------------\u001b[0m",
      "\u001b[1;31mTypeError\u001b[0m                                 Traceback (most recent call last)",
      "\u001b[1;32m~\\AppData\\Local\\Temp/ipykernel_7204/3060355963.py\u001b[0m in \u001b[0;36m<module>\u001b[1;34m\u001b[0m\n\u001b[1;32m----> 1\u001b[1;33m \u001b[0md3\u001b[0m \u001b[1;33m=\u001b[0m \u001b[1;33m{\u001b[0m\u001b[1;33m[\u001b[0m\u001b[1;36m1\u001b[0m\u001b[1;33m,\u001b[0m\u001b[1;36m2\u001b[0m\u001b[1;33m]\u001b[0m\u001b[1;33m:\u001b[0m\u001b[1;36m4\u001b[0m\u001b[1;33m}\u001b[0m \u001b[1;31m# hata verir çünkü mutabledır.\u001b[0m\u001b[1;33m\u001b[0m\u001b[1;33m\u001b[0m\u001b[0m\n\u001b[0m",
      "\u001b[1;31mTypeError\u001b[0m: unhashable type: 'list'"
     ]
    }
   ],
   "source": [
    "d3 = {[1,2]:4} # hata verir çünkü mutabledır."
   ]
  },
  {
   "cell_type": "code",
   "execution_count": 49,
   "id": "5c157e2a",
   "metadata": {},
   "outputs": [],
   "source": [
    "d = {} # boş bir dictonary"
   ]
  },
  {
   "cell_type": "code",
   "execution_count": 50,
   "id": "625a9aa0",
   "metadata": {},
   "outputs": [
    {
     "data": {
      "text/plain": [
       "False"
      ]
     },
     "execution_count": 50,
     "metadata": {},
     "output_type": "execute_result"
    }
   ],
   "source": [
    "\"Mert \" in notlar"
   ]
  },
  {
   "cell_type": "code",
   "execution_count": 52,
   "id": "dd23d66f",
   "metadata": {},
   "outputs": [
    {
     "data": {
      "text/plain": [
       "True"
      ]
     },
     "execution_count": 52,
     "metadata": {},
     "output_type": "execute_result"
    }
   ],
   "source": [
    "\"Deniz\" in notlar # listeler  ve tuplelardan daha hızlı gerçekleşir."
   ]
  },
  {
   "cell_type": "code",
   "execution_count": 1,
   "id": "b4b203ae",
   "metadata": {},
   "outputs": [
    {
     "data": {
      "text/plain": [
       "'# DefaultDict Tutorial in Python - Hacker Rank Solution\\n# Python 3\\n# Enter your code here. Read input from STDIN. Print output to STDOUT\\n# DefaultDict Tutorial in Python - Hacker Rank Solution START\\nfrom collections import defaultdict\\n\\nn, m = map(int,input().split())\\n\\na = defaultdict(list)\\nfor i in range(1, n + 1):\\n    a[input()].append(i)\\n\\nfor i in range(1, m + 1):\\n    key = input()\\n    if len(a[key]) > 0:\\n        print(\" \".join(str(c) for c in a[key]))\\n    else:\\n        print(-1)\\n# DefaultDict Tutorial in Python - Hacker Rank Solution END '"
      ]
     },
     "execution_count": 1,
     "metadata": {},
     "output_type": "execute_result"
    }
   ],
   "source": [
    "\"\"\"# DefaultDict Tutorial in Python - Hacker Rank Solution\n",
    "# Python 3\n",
    "# Enter your code here. Read input from STDIN. Print output to STDOUT\n",
    "# DefaultDict Tutorial in Python - Hacker Rank Solution START\n",
    "from collections import defaultdict\n",
    "\n",
    "n, m = map(int,input().split())\n",
    "\n",
    "a = defaultdict(list)\n",
    "for i in range(1, n + 1):\n",
    "    a[input()].append(i)\n",
    "\n",
    "for i in range(1, m + 1):\n",
    "    key = input()\n",
    "    if len(a[key]) > 0:\n",
    "        print(\" \".join(str(c) for c in a[key]))\n",
    "    else:\n",
    "        print(-1)\n",
    "# DefaultDict Tutorial in Python - Hacker Rank Solution END \"\"\" # hackerrank defaultdict sorusu cevabı "
   ]
  },
  {
   "cell_type": "markdown",
   "id": "ebad7920",
   "metadata": {},
   "source": [
    "# join metodu"
   ]
  },
  {
   "cell_type": "code",
   "execution_count": 2,
   "id": "d2a815b6",
   "metadata": {},
   "outputs": [
    {
     "name": "stdout",
     "output_type": "stream",
     "text": [
      "geeks\n"
     ]
    }
   ],
   "source": [
    "list1 = ['g','e','e','k', 's'] \n",
    "print(\"\".join(list1)) # str bir listeyi yan yana basmamızı sağlıyor veya ne istersek"
   ]
  },
  {
   "cell_type": "code",
   "execution_count": 6,
   "id": "03136ce1",
   "metadata": {},
   "outputs": [],
   "source": [
    "l = [\"limon\",\"portakal\",\"elma\"] # join metodu listeden stringe gider split de string den listeye gider"
   ]
  },
  {
   "cell_type": "code",
   "execution_count": 7,
   "id": "7c01029b",
   "metadata": {},
   "outputs": [
    {
     "data": {
      "text/plain": [
       "'limon/portakal/elma'"
      ]
     },
     "execution_count": 7,
     "metadata": {},
     "output_type": "execute_result"
    }
   ],
   "source": [
    "\"/\".join(l)"
   ]
  },
  {
   "cell_type": "markdown",
   "id": "7e9842cf",
   "metadata": {},
   "source": [
    "# Set\n",
    "* kümeler olarak düşünebiliriz.\n",
    "* setler indexlenemez\n",
    "* setler mutabledir\n",
    "* list tuplelara göre daha hızlı değer döndürebiliyoruz.\n",
    "* iki setin hangileri ortak hangi farklı gibi şeyler yapabiliriz.\n",
    "* setler daha az yer kaplar dictonary den"
   ]
  },
  {
   "cell_type": "code",
   "execution_count": 3,
   "id": "3c9bce89",
   "metadata": {},
   "outputs": [],
   "source": [
    "s = {1,2,3,4,5} # dictonary gibi ama value değeri atamıyoruz : böyle yaparak"
   ]
  },
  {
   "cell_type": "code",
   "execution_count": 4,
   "id": "d869d4e0",
   "metadata": {},
   "outputs": [],
   "source": [
    "s2 = {1,2,3,22,2}"
   ]
  },
  {
   "cell_type": "code",
   "execution_count": 5,
   "id": "341595a0",
   "metadata": {},
   "outputs": [
    {
     "data": {
      "text/plain": [
       "{1, 2, 3, 22}"
      ]
     },
     "execution_count": 5,
     "metadata": {},
     "output_type": "execute_result"
    }
   ],
   "source": [
    "s2"
   ]
  },
  {
   "cell_type": "code",
   "execution_count": 6,
   "id": "176b1a45",
   "metadata": {},
   "outputs": [],
   "source": [
    "s = set() #böyle yapabiliyorz yoksa dict olur"
   ]
  },
  {
   "cell_type": "code",
   "execution_count": 7,
   "id": "d1e8cc47",
   "metadata": {},
   "outputs": [],
   "source": [
    "#liste den tuple dan set oluşturabilirz tek değer alarak"
   ]
  },
  {
   "cell_type": "code",
   "execution_count": 9,
   "id": "9883ccd6",
   "metadata": {},
   "outputs": [],
   "source": [
    "message = \"Merhaba nasılın\""
   ]
  },
  {
   "cell_type": "code",
   "execution_count": 10,
   "id": "a5883628",
   "metadata": {},
   "outputs": [],
   "source": [
    "s = set(message)"
   ]
  },
  {
   "cell_type": "code",
   "execution_count": 11,
   "id": "7f6093f2",
   "metadata": {},
   "outputs": [
    {
     "data": {
      "text/plain": [
       "{' ', 'M', 'a', 'b', 'e', 'h', 'l', 'n', 'r', 's', 'ı'}"
      ]
     },
     "execution_count": 11,
     "metadata": {},
     "output_type": "execute_result"
    }
   ],
   "source": [
    "s"
   ]
  },
  {
   "cell_type": "code",
   "execution_count": 12,
   "id": "82f6b0c1",
   "metadata": {},
   "outputs": [
    {
     "data": {
      "text/plain": [
       "11"
      ]
     },
     "execution_count": 12,
     "metadata": {},
     "output_type": "execute_result"
    }
   ],
   "source": [
    "len(s)"
   ]
  },
  {
   "cell_type": "code",
   "execution_count": 13,
   "id": "cb14f653",
   "metadata": {},
   "outputs": [],
   "source": [
    "# setler indexlenemez\n"
   ]
  },
  {
   "cell_type": "code",
   "execution_count": 15,
   "id": "c81e90cc",
   "metadata": {},
   "outputs": [
    {
     "ename": "TypeError",
     "evalue": "'set' object is not subscriptable",
     "output_type": "error",
     "traceback": [
      "\u001b[1;31m---------------------------------------------------------------------------\u001b[0m",
      "\u001b[1;31mTypeError\u001b[0m                                 Traceback (most recent call last)",
      "\u001b[1;32m~\\AppData\\Local\\Temp/ipykernel_13864/3460304754.py\u001b[0m in \u001b[0;36m<module>\u001b[1;34m\u001b[0m\n\u001b[1;32m----> 1\u001b[1;33m \u001b[0ms\u001b[0m\u001b[1;33m[\u001b[0m\u001b[1;36m0\u001b[0m\u001b[1;33m]\u001b[0m \u001b[1;31m# hata alırız.\u001b[0m\u001b[1;33m\u001b[0m\u001b[1;33m\u001b[0m\u001b[0m\n\u001b[0m",
      "\u001b[1;31mTypeError\u001b[0m: 'set' object is not subscriptable"
     ]
    }
   ],
   "source": [
    "s[0] # hata alırız."
   ]
  },
  {
   "cell_type": "code",
   "execution_count": 18,
   "id": "c234bf3e",
   "metadata": {},
   "outputs": [],
   "source": [
    "s.add(6) # eleman ekleme olan değeri bir daha eklemez."
   ]
  },
  {
   "cell_type": "code",
   "execution_count": 20,
   "id": "b0affe11",
   "metadata": {},
   "outputs": [
    {
     "ename": "KeyError",
     "evalue": "2",
     "output_type": "error",
     "traceback": [
      "\u001b[1;31m---------------------------------------------------------------------------\u001b[0m",
      "\u001b[1;31mKeyError\u001b[0m                                  Traceback (most recent call last)",
      "\u001b[1;32m~\\AppData\\Local\\Temp/ipykernel_13864/1610207556.py\u001b[0m in \u001b[0;36m<module>\u001b[1;34m\u001b[0m\n\u001b[1;32m----> 1\u001b[1;33m \u001b[0ms\u001b[0m\u001b[1;33m.\u001b[0m\u001b[0mremove\u001b[0m\u001b[1;33m(\u001b[0m\u001b[1;36m2\u001b[0m\u001b[1;33m)\u001b[0m \u001b[1;31m# olmayan eleman hata verir.\u001b[0m\u001b[1;33m\u001b[0m\u001b[1;33m\u001b[0m\u001b[0m\n\u001b[0m",
      "\u001b[1;31mKeyError\u001b[0m: 2"
     ]
    }
   ],
   "source": [
    "s.remove(2) # olmayan eleman hata verir."
   ]
  },
  {
   "cell_type": "code",
   "execution_count": 23,
   "id": "05cbd39b",
   "metadata": {},
   "outputs": [],
   "source": [
    "s.discard(10) # remove ediyor ama hata vermiyor eğer içinde yoksa"
   ]
  },
  {
   "cell_type": "code",
   "execution_count": 24,
   "id": "f802ab00",
   "metadata": {},
   "outputs": [
    {
     "data": {
      "text/plain": [
       "{' ', 6, 'M', 'a', 'b', 'e', 'h', 'l', 'n', 'r', 's', 'ı'}"
      ]
     },
     "execution_count": 24,
     "metadata": {},
     "output_type": "execute_result"
    }
   ],
   "source": [
    "s"
   ]
  },
  {
   "cell_type": "code",
   "execution_count": 25,
   "id": "6bf22648",
   "metadata": {},
   "outputs": [],
   "source": [
    "s1 = set([1,5,10])"
   ]
  },
  {
   "cell_type": "code",
   "execution_count": 26,
   "id": "0c2ef59a",
   "metadata": {},
   "outputs": [],
   "source": [
    "s2 = set([2,5,3])"
   ]
  },
  {
   "cell_type": "code",
   "execution_count": 27,
   "id": "def268e1",
   "metadata": {},
   "outputs": [
    {
     "data": {
      "text/plain": [
       "{1, 10}"
      ]
     },
     "execution_count": 27,
     "metadata": {},
     "output_type": "execute_result"
    }
   ],
   "source": [
    "s1.difference(s2)"
   ]
  },
  {
   "cell_type": "code",
   "execution_count": 28,
   "id": "b6f08498",
   "metadata": {},
   "outputs": [],
   "source": [
    "#s1 in s2 den farkı döndürdüğü şey settir"
   ]
  },
  {
   "cell_type": "code",
   "execution_count": 29,
   "id": "2b56e2b5",
   "metadata": {},
   "outputs": [
    {
     "data": {
      "text/plain": [
       "{1, 10}"
      ]
     },
     "execution_count": 29,
     "metadata": {},
     "output_type": "execute_result"
    }
   ],
   "source": [
    "s1 - s2 "
   ]
  },
  {
   "cell_type": "code",
   "execution_count": 30,
   "id": "d75844c2",
   "metadata": {},
   "outputs": [
    {
     "data": {
      "text/plain": [
       "{2, 3}"
      ]
     },
     "execution_count": 30,
     "metadata": {},
     "output_type": "execute_result"
    }
   ],
   "source": [
    "s2 - s1"
   ]
  },
  {
   "cell_type": "code",
   "execution_count": 31,
   "id": "5d643b0f",
   "metadata": {},
   "outputs": [
    {
     "data": {
      "text/plain": [
       "{1, 2, 3, 10}"
      ]
     },
     "execution_count": 31,
     "metadata": {},
     "output_type": "execute_result"
    }
   ],
   "source": [
    "s1.symmetric_difference(s2) # bu bize birleşimlerinde kesişimi çıkartıp verir"
   ]
  },
  {
   "cell_type": "code",
   "execution_count": 32,
   "id": "e9621183",
   "metadata": {},
   "outputs": [
    {
     "data": {
      "text/plain": [
       "{5}"
      ]
     },
     "execution_count": 32,
     "metadata": {},
     "output_type": "execute_result"
    }
   ],
   "source": [
    "s1.intersection(s2)"
   ]
  },
  {
   "cell_type": "code",
   "execution_count": 33,
   "id": "ed2ff91d",
   "metadata": {},
   "outputs": [
    {
     "data": {
      "text/plain": [
       "{5}"
      ]
     },
     "execution_count": 33,
     "metadata": {},
     "output_type": "execute_result"
    }
   ],
   "source": [
    "s1 & s2"
   ]
  },
  {
   "cell_type": "code",
   "execution_count": 34,
   "id": "d84c8329",
   "metadata": {},
   "outputs": [],
   "source": [
    "s1.intersection_update(s2)"
   ]
  },
  {
   "cell_type": "code",
   "execution_count": 35,
   "id": "2c82f47e",
   "metadata": {},
   "outputs": [
    {
     "data": {
      "text/plain": [
       "{5}"
      ]
     },
     "execution_count": 35,
     "metadata": {},
     "output_type": "execute_result"
    }
   ],
   "source": [
    "s1"
   ]
  },
  {
   "cell_type": "code",
   "execution_count": 36,
   "id": "a4ff2af8",
   "metadata": {},
   "outputs": [
    {
     "data": {
      "text/plain": [
       "{2, 3, 5}"
      ]
     },
     "execution_count": 36,
     "metadata": {},
     "output_type": "execute_result"
    }
   ],
   "source": [
    "s1.union(s2)"
   ]
  },
  {
   "cell_type": "code",
   "execution_count": 37,
   "id": "81437f8e",
   "metadata": {},
   "outputs": [
    {
     "data": {
      "text/plain": [
       "False"
      ]
     },
     "execution_count": 37,
     "metadata": {},
     "output_type": "execute_result"
    }
   ],
   "source": [
    "s1.isdisjoint(s2) # boş küme olursa true olur"
   ]
  },
  {
   "cell_type": "code",
   "execution_count": 38,
   "id": "1914c615",
   "metadata": {},
   "outputs": [
    {
     "data": {
      "text/plain": [
       "False"
      ]
     },
     "execution_count": 38,
     "metadata": {},
     "output_type": "execute_result"
    }
   ],
   "source": [
    "len(s1.intersection(s2)) == 0 # bunu kontrol ediyor."
   ]
  },
  {
   "cell_type": "code",
   "execution_count": 40,
   "id": "10255767",
   "metadata": {},
   "outputs": [
    {
     "data": {
      "text/plain": [
       "True"
      ]
     },
     "execution_count": 40,
     "metadata": {},
     "output_type": "execute_result"
    }
   ],
   "source": [
    "s1.issubset(s2) # altkümesi mi"
   ]
  },
  {
   "cell_type": "code",
   "execution_count": 41,
   "id": "e585709c",
   "metadata": {},
   "outputs": [
    {
     "data": {
      "text/plain": [
       "True"
      ]
     },
     "execution_count": 41,
     "metadata": {},
     "output_type": "execute_result"
    }
   ],
   "source": [
    "s2.issuperset(s1)"
   ]
  },
  {
   "cell_type": "code",
   "execution_count": 42,
   "id": "583fa638",
   "metadata": {},
   "outputs": [],
   "source": [
    "d = {\"student_1\":90,\"student_2\":80,\"student_3\":72}"
   ]
  },
  {
   "cell_type": "code",
   "execution_count": 43,
   "id": "c261c64f",
   "metadata": {},
   "outputs": [
    {
     "name": "stdout",
     "output_type": "stream",
     "text": [
      "student_1\n"
     ]
    }
   ],
   "source": [
    "for k in d:\n",
    "    value = d[k]\n",
    "    \n",
    "    if value >85:\n",
    "        print(k)"
   ]
  },
  {
   "cell_type": "code",
   "execution_count": 44,
   "id": "6c032a78",
   "metadata": {},
   "outputs": [
    {
     "name": "stdout",
     "output_type": "stream",
     "text": [
      "key değeri: student_1 value değeri: 90\n",
      "key değeri: student_2 value değeri: 80\n",
      "key değeri: student_3 value değeri: 72\n"
     ]
    }
   ],
   "source": [
    "for k,v in d.items():\n",
    "    print(\"key değeri:\",k,\"value değeri:\",v)"
   ]
  },
  {
   "cell_type": "code",
   "execution_count": 45,
   "id": "edf960b8",
   "metadata": {},
   "outputs": [
    {
     "name": "stdout",
     "output_type": "stream",
     "text": [
      "2\n"
     ]
    }
   ],
   "source": [
    "for i in range(2,5,3):\n",
    "\n",
    "    print(i)"
   ]
  },
  {
   "cell_type": "code",
   "execution_count": 46,
   "id": "a185ea62",
   "metadata": {},
   "outputs": [],
   "source": [
    "# for i in liste diyerek bir döngü yaparsak listenin içindeki değeri değiştiremeyiz.\n",
    "# k,v ikili değer veriyorsa ise böyle bastırma yapabiliyoruz.\n",
    "# dict[\"Student\"] böyle olduğundan 43 deki yeri alabiliyoruz.yada direk d.values() olarak alabiliriz."
   ]
  },
  {
   "cell_type": "markdown",
   "id": "6416c86c",
   "metadata": {},
   "source": [
    "# split() metodu"
   ]
  },
  {
   "cell_type": "code",
   "execution_count": 1,
   "id": "82224f47",
   "metadata": {},
   "outputs": [],
   "source": [
    "s = \"merhaba nasılsın?\""
   ]
  },
  {
   "cell_type": "code",
   "execution_count": 2,
   "id": "d0d03be5",
   "metadata": {},
   "outputs": [
    {
     "data": {
      "text/plain": [
       "['merhaba', 'nasılsın?']"
      ]
     },
     "execution_count": 2,
     "metadata": {},
     "output_type": "execute_result"
    }
   ],
   "source": [
    "s.split(\" \") # defalut olarak bunu yapıyor dikkat et"
   ]
  },
  {
   "cell_type": "code",
   "execution_count": 4,
   "id": "322c8397",
   "metadata": {},
   "outputs": [],
   "source": [
    "s2 = \"limon,portakal,elma\""
   ]
  },
  {
   "cell_type": "code",
   "execution_count": 5,
   "id": "2bffc85c",
   "metadata": {},
   "outputs": [
    {
     "data": {
      "text/plain": [
       "['limon', 'portakal', 'elma']"
      ]
     },
     "execution_count": 5,
     "metadata": {},
     "output_type": "execute_result"
    }
   ],
   "source": [
    "s2.split(\",\")"
   ]
  },
  {
   "cell_type": "code",
   "execution_count": null,
   "id": "cb92737b",
   "metadata": {},
   "outputs": [],
   "source": []
  }
 ],
 "metadata": {
  "kernelspec": {
   "display_name": "Python 3 (ipykernel)",
   "language": "python",
   "name": "python3"
  },
  "language_info": {
   "codemirror_mode": {
    "name": "ipython",
    "version": 3
   },
   "file_extension": ".py",
   "mimetype": "text/x-python",
   "name": "python",
   "nbconvert_exporter": "python",
   "pygments_lexer": "ipython3",
   "version": "3.7.8"
  }
 },
 "nbformat": 4,
 "nbformat_minor": 5
}

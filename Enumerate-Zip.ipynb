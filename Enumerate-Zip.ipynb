{
 "cells": [
  {
   "cell_type": "markdown",
   "id": "fd38dafa",
   "metadata": {},
   "source": [
    "# Enumerate()"
   ]
  },
  {
   "cell_type": "code",
   "execution_count": 1,
   "id": "cc45c767",
   "metadata": {},
   "outputs": [],
   "source": [
    "liste = [\"Tyler\",\"Swift\",\"Python\",\"C#\"]"
   ]
  },
  {
   "cell_type": "code",
   "execution_count": 7,
   "id": "92c2d9b6",
   "metadata": {},
   "outputs": [
    {
     "name": "stdout",
     "output_type": "stream",
     "text": [
      "0  Tyler\n",
      "1  Swift\n",
      "2  Python\n",
      "3  C#\n"
     ]
    }
   ],
   "source": [
    "for i,j in enumerate(liste):\n",
    "    print(i  ,\"\", j)"
   ]
  },
  {
   "cell_type": "code",
   "execution_count": 14,
   "id": "6b47c817",
   "metadata": {},
   "outputs": [
    {
     "name": "stdout",
     "output_type": "stream",
     "text": [
      "(0, 'Tyler')\n",
      "(1, 'Swift')\n",
      "(2, 'Python')\n",
      "(3, 'C#')\n"
     ]
    }
   ],
   "source": [
    "for i in enumerate(liste):\n",
    "    print(i)"
   ]
  },
  {
   "cell_type": "code",
   "execution_count": 10,
   "id": "2d1ac72a",
   "metadata": {},
   "outputs": [
    {
     "name": "stdout",
     "output_type": "stream",
     "text": [
      "1  Tyler\n",
      "2  Swift\n",
      "3  Python\n",
      "4  C#\n"
     ]
    }
   ],
   "source": [
    "for i,j in enumerate(liste,start = 1): # start a verdiğimiz değerden başlıyor ve 1 artırarak ilerliyor.\n",
    "    print(i  ,\"\", j)"
   ]
  },
  {
   "cell_type": "markdown",
   "id": "1f8b982c",
   "metadata": {},
   "source": [
    "# Zip()"
   ]
  },
  {
   "cell_type": "code",
   "execution_count": 11,
   "id": "b82b5d4b",
   "metadata": {},
   "outputs": [],
   "source": [
    "sınıf = [\"a.sınıfı\",\"b.sınıfı\",\"c.sınıfı\"]\n",
    "numara = [10,20,30,40]"
   ]
  },
  {
   "cell_type": "code",
   "execution_count": 12,
   "id": "af7374e1",
   "metadata": {},
   "outputs": [
    {
     "name": "stdout",
     "output_type": "stream",
     "text": [
      "a.sınıfı 10\n",
      "b.sınıfı 20\n",
      "c.sınıfı 30\n"
     ]
    }
   ],
   "source": [
    "for i,j in zip(sınıf,numara):\n",
    "    print(i,j)"
   ]
  },
  {
   "cell_type": "code",
   "execution_count": 19,
   "id": "f15774cc",
   "metadata": {},
   "outputs": [
    {
     "name": "stdout",
     "output_type": "stream",
     "text": [
      "<class 'tuple'>\n",
      "('a.sınıfı', 10)\n",
      "<class 'tuple'>\n",
      "('b.sınıfı', 20)\n",
      "<class 'tuple'>\n",
      "('c.sınıfı', 30)\n"
     ]
    }
   ],
   "source": [
    "for i in zip(sınıf,numara): # bunu yaparak class tupple olan bir şey döndürüyor:\n",
    "    \n",
    "    print(type(i))\n",
    "    print(i)"
   ]
  },
  {
   "cell_type": "markdown",
   "id": "5ea106ea",
   "metadata": {},
   "source": [
    "# Dictonary de nasıl oluyor:"
   ]
  },
  {
   "cell_type": "code",
   "execution_count": 20,
   "id": "7eeb9884",
   "metadata": {},
   "outputs": [],
   "source": [
    "meyve = [\"Elma\",\"Portakal\"]\n",
    "renk = [\"Kırmızı\",\"Turuncu\"]"
   ]
  },
  {
   "cell_type": "code",
   "execution_count": 21,
   "id": "8ccf9d5b",
   "metadata": {},
   "outputs": [],
   "source": [
    "dit = {}\n",
    "for i,j in zip(meyve,renk):\n",
    "    dit[i] = j"
   ]
  },
  {
   "cell_type": "code",
   "execution_count": 22,
   "id": "bf6197ce",
   "metadata": {},
   "outputs": [
    {
     "name": "stdout",
     "output_type": "stream",
     "text": [
      "{'Elma': 'Kırmızı', 'Portakal': 'Turuncu'}\n"
     ]
    }
   ],
   "source": [
    "print(dit)"
   ]
  },
  {
   "cell_type": "code",
   "execution_count": null,
   "id": "bc6b4c41",
   "metadata": {},
   "outputs": [],
   "source": []
  }
 ],
 "metadata": {
  "kernelspec": {
   "display_name": "Python 3 (ipykernel)",
   "language": "python",
   "name": "python3"
  },
  "language_info": {
   "codemirror_mode": {
    "name": "ipython",
    "version": 3
   },
   "file_extension": ".py",
   "mimetype": "text/x-python",
   "name": "python",
   "nbconvert_exporter": "python",
   "pygments_lexer": "ipython3",
   "version": "3.7.8"
  }
 },
 "nbformat": 4,
 "nbformat_minor": 5
}

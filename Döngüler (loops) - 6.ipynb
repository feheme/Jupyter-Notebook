{
 "cells": [
  {
   "cell_type": "markdown",
   "id": "ee28f9e8",
   "metadata": {},
   "source": [
    "# while, for"
   ]
  },
  {
   "cell_type": "code",
   "execution_count": 1,
   "id": "c51c8dde",
   "metadata": {},
   "outputs": [
    {
     "name": "stdout",
     "output_type": "stream",
     "text": [
      "h\n",
      "e\n",
      "y\n"
     ]
    }
   ],
   "source": [
    "for c in \"hey\":\n",
    "    print(c)"
   ]
  },
  {
   "cell_type": "code",
   "execution_count": 2,
   "id": "5bc473c9",
   "metadata": {},
   "outputs": [
    {
     "name": "stdout",
     "output_type": "stream",
     "text": [
      "0\n",
      "1\n",
      "2\n",
      "3\n",
      "4\n"
     ]
    }
   ],
   "source": [
    "for x in range(5):\n",
    "    print(x)"
   ]
  },
  {
   "cell_type": "code",
   "execution_count": 3,
   "id": "13942681",
   "metadata": {},
   "outputs": [
    {
     "name": "stdout",
     "output_type": "stream",
     "text": [
      "3125\n"
     ]
    }
   ],
   "source": [
    "toplam = 1\n",
    "for _ in range(5): # ortak bir ağız kullanmadığımızı gösterir _\n",
    "    \n",
    "    toplam *=5\n",
    "print(toplam)"
   ]
  },
  {
   "cell_type": "code",
   "execution_count": 5,
   "id": "92691f1e",
   "metadata": {},
   "outputs": [
    {
     "name": "stdout",
     "output_type": "stream",
     "text": [
      "h\n",
      "e\n",
      "y\n"
     ]
    }
   ],
   "source": [
    "s = \"hey\"\n",
    "for c in s:\n",
    "    print(c)"
   ]
  },
  {
   "cell_type": "code",
   "execution_count": 6,
   "id": "26fb00f1",
   "metadata": {},
   "outputs": [
    {
     "name": "stdout",
     "output_type": "stream",
     "text": [
      "h\n",
      "e\n",
      "y\n"
     ]
    }
   ],
   "source": [
    "n = len(s)\n",
    "index = 0\n",
    "\n",
    "while index < n:\n",
    "    print(s[index])\n",
    "    index +=1"
   ]
  },
  {
   "cell_type": "markdown",
   "id": "99eafee4",
   "metadata": {},
   "source": [
    "* break continue"
   ]
  },
  {
   "cell_type": "code",
   "execution_count": 7,
   "id": "61abf984",
   "metadata": {},
   "outputs": [
    {
     "name": "stdout",
     "output_type": "stream",
     "text": [
      "0\n",
      "1\n",
      "2\n"
     ]
    }
   ],
   "source": [
    "for i in range(10):\n",
    "    if i == 3:\n",
    "        break\n",
    "    print(i)"
   ]
  },
  {
   "cell_type": "code",
   "execution_count": 8,
   "id": "da0e00f4",
   "metadata": {},
   "outputs": [],
   "source": [
    "# while ile de aynısı yaparız."
   ]
  },
  {
   "cell_type": "code",
   "execution_count": 9,
   "id": "741d33a4",
   "metadata": {},
   "outputs": [
    {
     "name": "stdout",
     "output_type": "stream",
     "text": [
      "0\n",
      "1\n",
      "2\n",
      "4\n",
      "5\n",
      "6\n",
      "7\n",
      "8\n",
      "9\n"
     ]
    }
   ],
   "source": [
    "for i in range(10):\n",
    "    if i == 3:\n",
    "        continue\n",
    "    print(i) # for içindekileri atlar direk bir sonraki iterasyonu yapar."
   ]
  },
  {
   "cell_type": "code",
   "execution_count": null,
   "id": "2a0966d4",
   "metadata": {},
   "outputs": [],
   "source": []
  }
 ],
 "metadata": {
  "kernelspec": {
   "display_name": "Python 3 (ipykernel)",
   "language": "python",
   "name": "python3"
  },
  "language_info": {
   "codemirror_mode": {
    "name": "ipython",
    "version": 3
   },
   "file_extension": ".py",
   "mimetype": "text/x-python",
   "name": "python",
   "nbconvert_exporter": "python",
   "pygments_lexer": "ipython3",
   "version": "3.7.8"
  }
 },
 "nbformat": 4,
 "nbformat_minor": 5
}
